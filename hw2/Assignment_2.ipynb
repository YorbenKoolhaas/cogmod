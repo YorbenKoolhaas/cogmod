{
 "cells": [
  {
   "cell_type": "markdown",
   "metadata": {},
   "source": [
    "# Cognitive Modelling Assignment 2  <font color='red'>Deadline = 25 april 23:59</font>\n",
    "\n",
    "In totaal kan je voor deze opdracht __81 punten__ halen + 5 bonuspunten.\n",
    "\n",
    "## Fitting functions\n",
    "\n",
    "Hieronder volgen wat korte vragen en uitleg over model fitting ter voorbereiding op de verdere assignments. Een deel van de theorie komt misschien bekend voor. Het is de bedoeling dat je op basis van deze simpele opdracht inziet hoe het fitten van een cognitief model niet veel verschilt van het fitten van een wiskundige formule op data. In de basis is het idee dat je door een bepaalde methode de parameters van de desbetreffende functie kan vinden die de data, of het gedrag van mensen, zo goed mogelijk kan beschrijven. \n",
    "\n",
    "Wegens historische redenen is het eerste deel van deze opdracht nog in het Engels, je mag in het Nederlands of in het Engels antwoorden. \n",
    "\n",
    "Bij elke vraag staat de hoeveelheid punten die je er voor kan krijgen. Geef antwoorden in blokken met code of met tekst. Gebruik voor antwoorden met tekst de \">\" voor blockquotes en geef bij elke vraag ook __kort uitleg__ als hierom wordt gevraagd. __Let op__: soms staan er meerdere vragen bij een onderdeel, lees de tekst dus nauwkeurig. \n",
    "\n",
    "Sla het uiteindelijke notebook __met al gerunde output__ op, met jullie studentnummers en achternamen in de filenaam: `studentnummer1_achternaam1_studentnummer2_achternaam2_opdrachtnummer`. "
   ]
  },
  {
   "cell_type": "code",
   "execution_count": 39,
   "metadata": {},
   "outputs": [],
   "source": [
    "from scipy import stats\n",
    "import numpy as np\n",
    "import random\n",
    "import math\n",
    "\n",
    "%matplotlib inline\n",
    "import matplotlib.pyplot as plt"
   ]
  },
  {
   "cell_type": "markdown",
   "metadata": {},
   "source": [
    "---\n",
    "\n",
    "## 0. Fitting functions\n",
    "\n",
    "Voor deze inleidende opdracht schrijven we verschillende functies en gaan deze op data \"fitten\". De meeste concepten hier moeten bekend zijn uit de cursus *Leren*, behalve dat we de *SciPy*-library zullen gebruiken om de functies te fitten op data. Met fitten bedoelen we de optimale waarden vinden van de parameters in de functie zodat deze de data het best mogelijk benadert. De *SciPy*-library komt goed van pas bij latere opdrachten, dus het is handig om hier alvast wat elementen te introduceren.\n",
    "\n",
    "### Generating simulation data\n",
    "\n",
    "Assume there is some model that is defined by the following function:\n",
    "\n",
    "$$y = e^{\\frac{3 x}{20}}$$\n",
    "\n",
    "Imagine that this represents the relationship between the temperature (`x`) and the amount of ice cream sold (`y`) in a small ice cream store. The higher the temperature, the more ice cream is sold. For an ice cream shop owner it would be good to know this exact relationship, such that she can predict how much to have in store when the temperature is changing. \n",
    "\n",
    "Of course, such a relationship cannot be found in a book but must be estimated from data. So in the first step we will generate some data. Below, we:  \n",
    "\n",
    "* Write a function `curve` which implements this model\n",
    "* Generate 50 uniformly spaced x-values over the interval `[1, 13]` using [linspace](https://docs.scipy.org/doc/numpy/reference/generated/numpy.linspace.html)\n",
    "* Apply the curve function to the entire *ndarray* of x-values using [vectorize](https://docs.scipy.org/doc/numpy/reference/generated/numpy.vectorize.html)\n",
    "\n",
    "The shop owner is taking note of the ice cream sold on every day but of course such measurements are noisy: not on each day that it is 10 degrees celcius will the exact same amount of people show up. Their ice cream buying behavior will be determined not only by the temperature but also many other factors (e.g. how much money the customers have in their account) that are unknown to the shop owner. Therefore we will add some noise to the data. Below, we:\n",
    "\n",
    "* Create an *ndarray* of noise from a Gaussian distribution with $\\mu = 0.0$ and $\\sigma = 1.0$ using [random.normal](https://docs.scipy.org/doc/numpy/reference/generated/numpy.random.normal.html)\n",
    "* Add the noise to the curve results to create the artificial simulation data\n",
    "* Plot the actual underlying curve as a (curved) line and the simulated data as dots, both in the same plot"
   ]
  },
  {
   "cell_type": "code",
   "execution_count": 40,
   "metadata": {},
   "outputs": [
    {
     "data": {
      "image/png": "[encoded data removed]",
      "text/plain": [
       "<Figure size 640x480 with 1 Axes>"
      ]
     },
     "metadata": {},
     "output_type": "display_data"
    }
   ],
   "source": [
    "np.random.seed(seed=99999)\n",
    "\n",
    "def curve(x):\n",
    "    return math.e**(3*x/20)\n",
    "\n",
    "samples = np.linspace(1, 13)\n",
    "model_data = np.vectorize(curve)(samples)\n",
    "\n",
    "noise = np.random.normal(size=samples.shape)\n",
    "sim_data = model_data + noise\n",
    "\n",
    "plt.plot(samples, model_data, label='Actual curve')\n",
    "plt.plot(samples, sim_data, 'o', label='Measured data')\n",
    "plt.legend()\n",
    "plt.show()"
   ]
  },
  {
   "cell_type": "markdown",
   "metadata": {},
   "source": [
    "---\n",
    "\n",
    "### Q.0a Fitting a linear model (2 points)\n",
    "\n",
    "Now we'll use *SciPy* to fit a line through this simulation data. In *Leren* we needed to compute the partial derivative of the error function with respect to each of the model parameters to know how to modify those parameters to get the derivates (close to) zero. Here, we will just define what the error function is, and let *SciPy* do the actual minimization work. Let's assume that we are looking at the relationship between the temperature and ice cream sales volume. We expect that the higher the temperature, the more ice cream will be sold. \n",
    "\n",
    "The first model will be a very basic linear one, with only 1 parameter `a`. This model assumes there is a linear relationship between variables x and y:\n",
    "\n",
    "$$y = ax$$\n",
    "\n",
    "*(note: this line will always pass through the origin, in other words the intercept is zero)*\n",
    "\n",
    "* Write a function `linear` which implements this model\n",
    "\n",
    "It is our goal to find the optimal value for `a`.\n",
    "\n",
    "* Write a function `MSE` which computes the *Mean Squared Error* of an array of model estimates `y_hat` and an array of observed data `y`\n",
    "\n",
    "Already provided is a general function called `MSE_fit_func` which takes 4 arguments:\n",
    "1. *params:* A set of model parameters for the model function\n",
    "2. *func:* The model function that is being applied\n",
    "3. *x:* An array of x values\n",
    "4. *y:* An array of y values\n",
    "\n",
    "This function applies the model function to the *x* values using the model parameters and computes the resulting *MSE* with the observed *y* values. Assuming the data (i.e. the *x* and *y* values) and the model function are fixed, the model parameter(s) can be varied and the function will return an *MSE* for each parameter setting.\n",
    "\n",
    "The *SciPy* module *optimize* has a lot of functions to solve exactly this type of problem, where you change some parameters in order to minimize some function. As the current linear model has only one variable, we'll use the function [minimize_scalar](https://docs.scipy.org/doc/scipy/reference/generated/scipy.optimize.minimize_scalar.html#scipy.optimize.minimize_scalar).\n",
    "\n",
    "The function we want to minimize is the `MSE_fit_func` (i.e. the MSE of applying the model function to the data), and as the minimization method we'll use `Brent`. There are quite a few different minimization methods *SciPy* offers, but we won't worry about their differences for now and just use the simple `Brent` method. All minimization functions will try and minimize the returned value of the function by varying its **first argument**. The other function arguments will remain fixed and may be provided with optional argument `args`. We finish the call to `minimize_scalar` by filling in the correct values for `args` to fit the linear model to the simulation data generated in *Q0*.\n",
    "\n",
    "The variable `fit` will now be an [OptimizeResult](https://docs.scipy.org/doc/scipy/reference/generated/scipy.optimize.OptimizeResult.html#scipy.optimize.OptimizeResult) object.\n",
    "\n",
    "* Print the variable `fit` and some of its attributes to inspect the results of the minimization\n",
    "* Plot the simulation data as dots and the fitted linear model as a line, both in the same plot\n",
    "* Print the value of `a` that minimizes the linear model MSE on your data (`fit.x`)\n",
    "* Print the value of the MSE of the best fitting model (`fit.fun`)"
   ]
  },
  {
   "cell_type": "code",
   "execution_count": 41,
   "metadata": {},
   "outputs": [
    {
     "name": "stdout",
     "output_type": "stream",
     "text": [
      " message: \n",
      "          Optimization terminated successfully;\n",
      "          The returned value satisfies the termination criteria\n",
      "          (using xtol = 1.48e-08 )\n",
      " success: True\n",
      "     fun: 1.0231899828867719\n",
      "       x: 0.4651196511836916\n",
      "     nit: 5\n",
      "    nfev: 8\n",
      "the a value is: 0.4651196511836916\n",
      "The best MSE value is: 1.0231899828867719\n"
     ]
    },
    {
     "data": {
      "image/png": "[encoded data removed]",
      "text/plain": [
       "<Figure size 640x480 with 1 Axes>"
      ]
     },
     "metadata": {},
     "output_type": "display_data"
    }
   ],
   "source": [
    "from scipy import optimize\n",
    "\n",
    "def linear(x, a):\n",
    "    # TO DO\n",
    "    return a * x\n",
    "\n",
    "def MSE(y_hat, y):\n",
    "    # TO DO\n",
    "    return np.mean((y_hat - y) ** 2)\n",
    "\n",
    "def MSE_fit_func(params, func, x, y):\n",
    "    return MSE(func(x, params), y)\n",
    "\n",
    "fit = optimize.minimize_scalar(MSE_fit_func, method='Brent', args=(linear, samples, sim_data))\n",
    "print(fit)\n",
    "plt.scatter(samples, sim_data)\n",
    "plt.plot(samples, linear(samples, fit.x), color='red', label='Best fit line')\n",
    "print(f'the a value is: {fit.x}')\n",
    "print(f'The best MSE value is: {fit.fun}')"
   ]
  },
  {
   "cell_type": "markdown",
   "metadata": {},
   "source": [
    "<br>\n",
    "\n",
    "---\n",
    "\n",
    "### Q0.b Fitting a polynomial model (2 points) \n",
    "\n",
    "Now, the linear model is a pretty good fit, but the shopkeeper is not satisfied. Being a math hobbyist, she plans to create a new model using a $4^{th}$-order polynomial function:\n",
    "\n",
    "$$y=b_0+b_1x+b_2x^2+b_3x^3+b_4x^4$$\n",
    "\n",
    "* Write a function `polynomial` which implements this model, with the argument *b* being an *ndarray* containing all model parameters $b_0 \\dots b_4$\n",
    "\n",
    "When minimizing multiple parameters, we'll need to provide starting values for `b`, from where the minimization function will start the search. For now, you should use `np.array([-5, 9, -4, 1, .01])` as the starting point and we'll come back to selecting sensible starting values for the parameters later.\n",
    "\n",
    "* Use the function [minimize](https://docs.scipy.org/doc/scipy/reference/generated/scipy.optimize.minimize.html#scipy.optimize.minimize) to fit the polynomial model to the generated data from *Q0* using the `Nelder-Mead` method\n",
    "* Plot the simulation data as dots and the fitted polynomial model as a (curved) line, both in the same plot\n",
    "* Print the value of `b` that minimizes the polynomial model MSE on your data\n",
    "* Print the value of the MSE of the best fitting model."
   ]
  },
  {
   "cell_type": "code",
   "execution_count": 42,
   "metadata": {},
   "outputs": [
    {
     "name": "stdout",
     "output_type": "stream",
     "text": [
      "the b values are: [ 1.81879852e+00 -4.18965432e-01  7.83527702e-02  2.42020389e-03\n",
      " -3.04774124e-04]\n",
      "The best MSE value is: 0.8640422739850696\n"
     ]
    },
    {
     "data": {
      "image/png": "[encoded data removed]",
      "text/plain": [
       "<Figure size 640x480 with 1 Axes>"
      ]
     },
     "metadata": {},
     "output_type": "display_data"
    }
   ],
   "source": [
    "def polynomial(x, b):\n",
    "    # TO DO\n",
    "    return b[0] + x*b[1] + x**2 * b[2] + x**3 * b[3] + x**4*b[4]\n",
    "\n",
    "fit2 = optimize.minimize(MSE_fit_func, np.array([-5, 9, -4, 1, .01]), method='Nelder-Mead',\n",
    "                        args=(polynomial, samples, sim_data))\n",
    "\n",
    "# TO DO\n",
    "plt.scatter(samples, sim_data)\n",
    "plt.plot(samples, polynomial(samples, fit2.x), color='red', label='Best fit line')\n",
    "print(f'the b values are: {fit2.x}')\n",
    "print(f'The best MSE value is: {fit2.fun}')"
   ]
  },
  {
   "cell_type": "markdown",
   "metadata": {},
   "source": [
    "---\n",
    "\n",
    "### Q0.c Comparing models (4 points) \n",
    "\n",
    "Now, the linear model is a pretty good fit, but did the shopkeeper improve her model by making it more complex?\n",
    "\n",
    "* Compare the MSE of both models and report which one has the best fit. "
   ]
  },
  {
   "cell_type": "code",
   "execution_count": 43,
   "metadata": {},
   "outputs": [
    {
     "name": "stdout",
     "output_type": "stream",
     "text": [
      "the difference in mse is 0.15914770890170227\n",
      "The difference is positive so, the polynomial function has a lower MSE and as such a better fit \n"
     ]
    }
   ],
   "source": [
    "# TO DO\n",
    "print(f'the difference in mse is {fit.fun - fit2.fun}')\n",
    "print('The difference is positive so, the polynomial function has a lower MSE and as such a better fit ')"
   ]
  },
  {
   "cell_type": "markdown",
   "metadata": {},
   "source": [
    "The shopkeeper did all her work in the winter, preparing for the summer to come. Hence, her models were fitted only to data corresponding to temperatures between 1 and 13. But now it is spring and new data is coming in. The shopkeeper will now use her best model to predict sales. However, she was surprised to learn what her model predicted!\n",
    "\n",
    "* Report the prediction of the model for 18 degrees celcius (`x = 18`), how does that compare to the best day in winter (`x = 13`)?"
   ]
  },
  {
   "cell_type": "code",
   "execution_count": 44,
   "metadata": {},
   "outputs": [
    {
     "name": "stdout",
     "output_type": "stream",
     "text": [
      "the prediction for the linear model is: 8.372153721306448\n",
      "the last day of winter for linear gives is: 6.046555465387991\n",
      "the prediction for the polynomial model is: 1.7843788900728512\n",
      "the last day of winter for polynomial is: 6.226400239434803\n",
      "The linear model will predict a bit of a higher amount of ice cream sold in respect to the last day of winter\n",
      "The polynomial will predict a very low amount of ice cream sold in respect to the last day of winter\n"
     ]
    }
   ],
   "source": [
    "# TO DO\n",
    "print(f'the prediction for the linear model is: {linear(18, fit.x)}')\n",
    "print(f'the last day of winter for linear gives is: {linear(13, fit.x)}')\n",
    "print(f'the prediction for the polynomial model is: {polynomial(18, fit2.x)}')\n",
    "print(f'the last day of winter for polynomial is: {polynomial(13, fit2.x)}')\n",
    "print('The linear model will predict a bit of a higher amount of ice cream sold in respect to the last day of winter')\n",
    "print('The polynomial will predict a very low amount of ice cream sold in respect to the last day of winter')"
   ]
  },
  {
   "cell_type": "markdown",
   "metadata": {},
   "source": [
    "The shopkeeper is again collecting data for 50 days to get a better picture of what is going on. \n",
    "\n",
    "* Generate 50 uniformly spaced x-values over the interval `[13, 20]` using [linspace](https://docs.scipy.org/doc/numpy/reference/generated/numpy.linspace.html)\n",
    "* Apply the `curve` function (the exponential function introduced earlier) to the entire *ndarray* of x-values using [vectorize](https://docs.scipy.org/doc/numpy/reference/generated/numpy.vectorize.html)\n",
    "* Create an *ndarray* of noise from a Gaussian distribution with $\\mu = 0.0$ and $\\sigma = 1.0$ using [random.normal](https://docs.scipy.org/doc/numpy/reference/generated/numpy.random.normal.html)\n",
    "* Add the noise to the curve results to create the artificial simulation data\n",
    "\n",
    "We assume that this newly added artificial data is actually real data observed by the shopkeeper. She now compares the predictions of her original two models with what really happened. \n",
    "* Plot the new data (with `x` ranging from 13 to 20) as dots and the earlier fitted linear and polynomial models as (curved) lines in the new plot. Make sure to add labels for clearer distinction.\n",
    "* Compute and print the `MSE` for the new data (with `x` ranging from 13 to 20), for both of the earlier fitted models. Report which one has the best fit. Try to explain why."
   ]
  },
  {
   "cell_type": "code",
   "execution_count": 45,
   "metadata": {},
   "outputs": [
    {
     "data": {
      "text/plain": [
       "[<matplotlib.lines.Line2D at 0x7d74477d5760>]"
      ]
     },
     "execution_count": 45,
     "metadata": {},
     "output_type": "execute_result"
    },
    {
     "data": {
      "image/png": "[encoded data removed]",
      "text/plain": [
       "<Figure size 640x480 with 1 Axes>"
      ]
     },
     "metadata": {},
     "output_type": "display_data"
    }
   ],
   "source": [
    "# TO DO plot\n",
    "samples = np.linspace(13, 20)\n",
    "model_data = np.vectorize(curve)(samples)\n",
    "\n",
    "noise = np.random.normal(size=samples.shape)\n",
    "sim_data = model_data + noise\n",
    "plt.scatter(samples, sim_data)\n",
    "plt.plot(samples, linear(samples, fit.x), color='red', label='linear')\n",
    "plt.plot(samples, polynomial(samples, fit2.x), color='blue', label='polynomial')\n"
   ]
  },
  {
   "cell_type": "code",
   "execution_count": 46,
   "metadata": {},
   "outputs": [
    {
     "name": "stdout",
     "output_type": "stream",
     "text": [
      "The MSE for the linear model is: 33.93622139781243\n",
      "The MSE for the polynomial model is: 138.45029489411272\n"
     ]
    }
   ],
   "source": [
    "# TO DO print values\n",
    "print(f'The MSE for the linear model is: {MSE(linear(samples, fit.x), sim_data)}')\n",
    "print(f'The MSE for the polynomial model is: {MSE(polynomial(samples, fit2.x), sim_data)}')"
   ]
  },
  {
   "cell_type": "markdown",
   "metadata": {},
   "source": [
    "> Answer here\n",
    "\n",
    "The linear has a better fit now, because it has the lower MSE. The reason that the linear model creates a better fit, can be explained by the polynomial going down after the original data ends, while the new data goes up."
   ]
  },
  {
   "cell_type": "markdown",
   "metadata": {},
   "source": [
    "\n",
    "## Cognitive Model Fitting\n",
    "\n",
    "In cognitive science, different models can represent different theories of how the mind works. These theories are formalized in mathematical equations. The different models will make different predictions about the cognitive processes of people and ultimately of their behavior. To differentiate between these models, they are often fit to real behavioral (or brain) data, and their \"fit\" to the data is compared. It is common practice to further \"punish\" models in relation the number of free parameters that they have (to prevent **overfitting**, see debacle with the polynomial above). We will get back to model fitting in part III below. \n",
    "<br>\n",
    "<br>"
   ]
  },
  {
   "cell_type": "markdown",
   "metadata": {},
   "source": [
    "---\n",
    "\n",
    "# I. Q-Learning\n",
    "\n",
    "Q-learning algorithmes zijn gebaseerd op de Temporal Difference learning modellen die we eerder hebben besproken. Q-learning leert direct de associatie tussen states, actions en outcomes. De robot krijgt nu dus niet alleen maar beloningen, maar kan ook uitzoeken welke handeling de beste is geveven de situatie.\n",
    "\n",
    "Details over Q-learning zijn terug te vinden in de college slides en het hoofdstuk van Gureckis & Love [**computational reinforcement learning**](http://bradlove.org/papers/GureckisLovePress.pdf) en voor meer verdieping in het online boek van [**Sutton & Barto**](http://incompleteideas.net/book/bookdraft2018jan1.pdf) en dan met name hoofdstuk 6.\n",
    "\n",
    "Het leren in deze opdracht speelt zich af in een simpel **Markov Decision Process** met de volgende structuur:\n",
    "\n",
    "![](images/bandit_arms.png)\n",
    "\n",
    "In deze taak moet de robot telkens uit één van de schatkisten iets pakken. Sommige schatkisten leveren meer geld op dan andere, maar de robot weet in het begin nog niks over de schatkisten, en verwacht er maar weinig van. In elke ronde wordt de uitkomst van een schatkist bepaald door een trekking van een waarde uit een normaalverdeling met een ander gemiddelde. Het is aan de robot om er achter te komen welke van de vier schatkisten het meeste oplevert. De vier normaalverdelingen behorende bij de vier schatkisten verschillen in hun gemiddelde maar niet in hun variantie (standaard deviatie). \n",
    "\n",
    "We gaan Q-learing gebruiken om te beschrijven hoe de robot leert om de beste keuze te maken. De update-regel voor de Q-waarde is als volgt:\n",
    "\n",
    "$$ Q(s_t,a_t)= Q(s_t,a_t) + αδ $$\n",
    "\n",
    "waarbij $s_t$ de state op tijdstip $t$ is, $a_t$ de actie op tijdstip $t$, en $\\delta$ de prediction error. De actie is hier dus het kiezen van één van de kisten (totaal 4 mogelijke acties).\n",
    "\n",
    "**Let op:** In dit simpele experiment is er maar één state, waarin de robot telkens terugkeert na het maken van een keuze. Dit heeft als gevolg dat bij het leren geen rekening gehouden hoeft te worden met de actie die in de volgende state gemaakt wordt. De standaard prediction-error:\n",
    "\n",
    "$$\\delta = r_{t+1} + \\gamma\\ max_a\\ Q(s_{t+1} , a) − Q(s_t , a_t)$$\n",
    "\n",
    "verandert daardoor nu in:\n",
    "$$\\delta = r_{t+1} − Q(s_t , a_t)$$\n",
    "\n",
    "Aan het begin van het experiment heeft de robot geen enkele kennis van de wereld en geen enkele verwachtingen voor het krijgen van beloningen. Voor elke schatkist geldt:\n",
    "\n",
    "$$Q(1)=Q(2)=Q(3)=Q(4)=0$$\n",
    "\n"
   ]
  },
  {
   "cell_type": "markdown",
   "metadata": {},
   "source": [
    "### Q1.a (2 punten)\n",
    "\n",
    "Schrijf de Q-learning functie op die de nieuwe waarde Q uitrekent nadat de robot een schatkist heeft uitgekozen. Deze functie is hierboven al gegeven, maar we willen hem nu als one-liner. In deze functie komt $\\alpha$ voor. Wat is de rol van $\\alpha$ bij het leren? "
   ]
  },
  {
   "cell_type": "markdown",
   "metadata": {},
   "source": [
    "> *Antwoord*\n",
    "\n",
    "$Q(s_t,a_t)= Q(s_t,a_t) + α(r_{t+1} − Q(s_t , a_t))$\n",
    "\n",
    "The $\\alpha$ is the learning rate"
   ]
  },
  {
   "cell_type": "markdown",
   "metadata": {},
   "source": [
    "### Q1.b (2 punten)\n",
    "\n",
    "Stel, de robot selecteert schatkist 1 en krijgt een beloning van 2 munten. Wat is hierna de waarde van $Q(1)$? Rapporteer dit voor\n",
    "$\\alpha=0.5$ en $\\alpha=0.2$."
   ]
  },
  {
   "cell_type": "markdown",
   "metadata": {},
   "source": [
    "> *Antwoord*\n",
    "\n",
    "Voor $\\alpha$ = 0.2: \n",
    "    $Q(1)= 0 + 0.2(2 - 0) = 0.4$\n",
    "\n",
    "Voor $\\alpha$ = 0.5:\n",
    "    $Q(1)= 0 + 0.5(2 - 0) = 1$"
   ]
  },
  {
   "cell_type": "markdown",
   "metadata": {},
   "source": [
    "### Q1.c (8 punten)\n",
    "\n",
    "We gaan er nu van uit dat de robot de $\\epsilon$-greedy keuzeregel toepast. Dus bij het exploreren (kans $\\epsilon$) wordt er een random kist gekozen, en bij het exploiteren (kans $1-\\epsilon$) wordt de kist met de hoogste Q-waarde gekozen. Als meerdere kisten de hoogste Q-waarde hebben, dan wordt daar random één van gekozen.\n",
    "\n",
    "Schrijf een functie `q_learn` die $\\alpha$ (alpha), $\\epsilon$ (epsilon) en het aantal rondes (trials) als input accepteert. De output van deze functie moet onder andere een lijst `Q` bevatten met $Q$-waarden voor elke schatkist (1 t/m 4) in de wereld van de robot na het leren gedurende het gegeven aantal rondes. \n",
    "\n",
    "* Initieer de verwachtingen van de robot voor de 4 schatkisten:\n",
    "    * $Q(1) = Q(2) = Q(3) = Q(4) = 0$.\n",
    "* Initieer de lijst met alle verkregen beloningen: `outcomes = []`\n",
    "* Initieer de som van alle verkregen beloningen: `total_score = 0`\n",
    "* Initieer keuzelijsten:\n",
    "    * `choice_1 = np.zeros(trials)`\n",
    "    * `choice_2 = np.zeros(trials)`\n",
    "    * `choice_3 = np.zeros(trials)`\n",
    "    * `choice_4 = np.zeros(trials)`\n",
    "* Initieer de parameters van de normaalverdelingen waaruit de beloningen van de 4 schatkisten telkens worden getrokken:\n",
    "    * Kist 1: mean=20, SD=4\n",
    "    * Kist 2: mean=30, SD=4\n",
    "    * Kist 3: mean=50, SD=4\n",
    "    * Kist 4: mean=70, SD=4\n",
    "* Creëer een for-loop over alle rondes:\n",
    "    * Elke ronde selecteert de robot een kist op basis van $\\epsilon$-greedy. __Let op:__ e-greedy kan afwijken van de formules in het college. Dit is correct:\n",
    "    ```python\n",
    "            if random.random() < epsilon:\n",
    "                # explore\n",
    "            else:\n",
    "                # exploit\n",
    "    ```\n",
    "    * Als de robot in de ronde met index `i` (zero-based indexing) kiest voor schatkist `j`, dan update je `choice_j[i] = 1`.\n",
    "    * Kijk wat de beloning is na het maken van een keuze, en update de Q-waarde van de gekozen kist. Append de verkregen beloning aan de lijst `outcomes`, en tel de verkregen beloning op bij `total_score`.\n"
   ]
  },
  {
   "cell_type": "code",
   "execution_count": 47,
   "metadata": {},
   "outputs": [],
   "source": [
    "def q_learn(alpha, epsilon, trials=200):\n",
    "    # TO DO\n",
    "    expected_Q1 = 0\n",
    "    expected_Q2 = 0\n",
    "    expected_Q3 = 0\n",
    "    expected_Q4 = 0\n",
    "    choice_1 = np.zeros(trials)\n",
    "    choice_2 = np.zeros(trials)\n",
    "    choice_3 = np.zeros(trials)\n",
    "    choice_4 = np.zeros(trials)\n",
    "    total_score = 0\n",
    "\n",
    "    outcomes = []\n",
    "    for i in range(trials):\n",
    "        kist_1 = np.random.normal(20, 4)\n",
    "        kist_2 = np.random.normal(30, 4)\n",
    "        kist_3 = np.random.normal(50, 4)\n",
    "        kist_4 = np.random.normal(70, 4)\n",
    "        if np.random.rand() < epsilon:\n",
    "            choice = np.random.randint(0, 4)\n",
    "        else:\n",
    "            choice = [expected_Q1, expected_Q2, expected_Q3, expected_Q4].index(max([expected_Q1, expected_Q2, expected_Q3, expected_Q4]))\n",
    "        if choice == 0:\n",
    "            reward = kist_1\n",
    "            expected_Q1 = expected_Q1 + alpha * (reward - expected_Q1)\n",
    "            total_score += reward\n",
    "            choice_1[i] = 1\n",
    "            outcomes.append(reward)\n",
    "        elif choice == 1:\n",
    "            reward = kist_2\n",
    "            expected_Q2 = expected_Q2 + alpha * (reward - expected_Q2)\n",
    "            total_score += reward\n",
    "            choice_2[i] = 1\n",
    "            outcomes.append(reward)\n",
    "\n",
    "        elif choice == 2:\n",
    "            reward = kist_3\n",
    "            expected_Q3 = expected_Q3 + alpha * (reward - expected_Q3)\n",
    "            total_score += reward\n",
    "            choice_3[i] = 1\n",
    "            outcomes.append(reward)\n",
    "\n",
    "        elif choice == 3:\n",
    "            reward = kist_4\n",
    "            expected_Q4 = expected_Q4 + alpha * (reward - expected_Q4)\n",
    "            total_score += reward\n",
    "            choice_4[i] = 1\n",
    "            outcomes.append(reward)\n",
    "\n",
    "        \n",
    "    Q = [expected_Q1, expected_Q2, expected_Q3, expected_Q4]\n",
    "    return (Q, total_score, choice_1, choice_2, choice_3, choice_4, outcomes)"
   ]
  },
  {
   "cell_type": "markdown",
   "metadata": {},
   "source": [
    "Laat met behulp van deze functie de robot 200 rondes leren over deze wereld (1 leer-episode bestaat dus uit 200 rondes). Wat zijn de verwachtingen (Q-waarden) voor de schatkisten aan het eind van het experiment? En wat is de totale score? Geef voor:\n",
    "\n",
    "1. $\\alpha = 0.1$ en $\\epsilon = 0.1$\n",
    "2. $\\alpha = 0.5$ en $\\epsilon = 0.1$\n",
    "\n",
    "__Let op:__ We hebben te maken met toevalsexperimenten, dus iedere keer dat je je code runt zal de output anders zijn. Run je code daarom meerdere keren (voor beide waarden van $\\alpha$), bekijk telkens de output, en rapporteer vervolgens de output (Q-waarden en totale score) van een leer-episode die jij representatief vindt voor alles wat je langs hebt zien komen. Tip: na het maken van Q1.d zal je een beter beeld hebben van wat representatief is."
   ]
  },
  {
   "cell_type": "code",
   "execution_count": 48,
   "metadata": {},
   "outputs": [
    {
     "name": "stdout",
     "output_type": "stream",
     "text": [
      "[20.476478363069393, 12.000663093318792, 25.80152378825771, 71.51258912905652]\n",
      "9659.709290843724\n",
      "[24.96437486051718, 27.347591951136224, 50.277910903485534, 72.60444286249765]\n",
      "11183.823685400128\n"
     ]
    }
   ],
   "source": [
    "# TO DO\n",
    "x1 = q_learn(0.1, 0.1)\n",
    "x2 = q_learn(0.5, 0.1)\n",
    "\n",
    "print(x1[0])\n",
    "print(x1[1])\n",
    "print(x2[0])\n",
    "print(x2[1])"
   ]
  },
  {
   "cell_type": "markdown",
   "metadata": {},
   "source": [
    "Laat nu voor beide modellen zien hoe de keuzes voor de verschillende kisten veranderen gedurende de trials door middel van 2 plots (model 1: $\\alpha = 0.1$ en $\\epsilon = 0.1$) (model 2: $\\alpha = 0.5$ en $\\epsilon = 0.1$). Voor het plotten van de keuzes is het handig om naar de keuzeratio's (op een schaal van 0 tot 1) per 10 trials te kijken. Bijvoorbeeld: een keuzeratio van 1.0 voor schatkist 4 voor de eerste 10 trials wil zeggen dat schatkist 4 gedurende die 10 trials elke keer is gekozen door de robot. Deze code kun je gebruiken voor je plot behorende bij model 2 (kopieer en pas zelf aan voor de plot behorende bij model 1):\n",
    "```python\n",
    "res_05_01 = q_learn(0.5, 0.1)   # roep functie aan voor model 2\n",
    "width = 10                      # de grootte van de bin\n",
    "\n",
    "# bereken de keuzeratio's voor alle schatkisten, voor alle bins\n",
    "result1 = res_05_01[2].reshape(-1, width).mean(axis=1)\n",
    "result2 = res_05_01[3].reshape(-1, width).mean(axis=1)\n",
    "result3 = res_05_01[4].reshape(-1, width).mean(axis=1)\n",
    "result4 = res_05_01[5].reshape(-1, width).mean(axis=1)\n",
    "\n",
    "# Plot\n",
    "plt.plot(result1, label=r\"$1$\")\n",
    "plt.plot(result2, label=r\"$2$\")\n",
    "plt.plot(result3, label=r\"$3$\")\n",
    "plt.plot(result4, label=r\"$4$\")\n",
    "plt.legend()\n",
    "plt.ylabel(\"choice ratio\")\n",
    "plt.xlabel(\"trials * 10\")\n",
    "plt.show()\n",
    "```\n",
    "\n",
    "__Let op:__ We hebben te maken met toevalsexperimenten, dus iedere keer dat je je code runt zullen de plots anders zijn. Run je code daarom meerdere keren (voor beide modellen), bekijk telkens de resulterende plots, en voeg vervolgens plots in die jij representatief vindt voor alles wat je langs hebt zien komen. Tip: na het maken van Q1.d zal je een beter beeld hebben van wat representatief is."
   ]
  },
  {
   "cell_type": "code",
   "execution_count": 49,
   "metadata": {},
   "outputs": [
    {
     "data": {
      "image/png": "[encoded data removed]",
      "text/plain": [
       "<Figure size 640x480 with 1 Axes>"
      ]
     },
     "metadata": {},
     "output_type": "display_data"
    },
    {
     "data": {
      "image/png": "[encoded data removed]",
      "text/plain": [
       "<Figure size 640x480 with 1 Axes>"
      ]
     },
     "metadata": {},
     "output_type": "display_data"
    }
   ],
   "source": [
    "# TO DO plot\n",
    "res_05_01 = q_learn(0.1, 0.1)   # roep functie aan voor model 2\n",
    "width = 10                      # de grootte van de bin\n",
    "\n",
    "# bereken de keuzeratio's voor alle schatkisten, voor alle bins\n",
    "result1 = res_05_01[2].reshape(-1, width).mean(axis=1)\n",
    "result2 = res_05_01[3].reshape(-1, width).mean(axis=1)\n",
    "result3 = res_05_01[4].reshape(-1, width).mean(axis=1)\n",
    "result4 = res_05_01[5].reshape(-1, width).mean(axis=1)\n",
    "\n",
    "# Plot\n",
    "plt.title(\"alpha = 0.1, epsilon = 0.1\")\n",
    "plt.plot(result1, label=r\"$1$\")\n",
    "plt.plot(result2, label=r\"$2$\")\n",
    "plt.plot(result3, label=r\"$3$\")\n",
    "plt.plot(result4, label=r\"$4$\")\n",
    "plt.legend()\n",
    "plt.ylabel(\"choice ratio\")\n",
    "plt.xlabel(\"trials * 10\")\n",
    "plt.show()\n",
    "res_05_01 = q_learn(0.5, 0.1)   # roep functie aan voor model 2\n",
    "width = 10                      # de grootte van de bin\n",
    "\n",
    "# bereken de keuzeratio's voor alle schatkisten, voor alle bins\n",
    "result1 = res_05_01[2].reshape(-1, width).mean(axis=1)\n",
    "result2 = res_05_01[3].reshape(-1, width).mean(axis=1)\n",
    "result3 = res_05_01[4].reshape(-1, width).mean(axis=1)\n",
    "result4 = res_05_01[5].reshape(-1, width).mean(axis=1)\n",
    "\n",
    "# Plot\n",
    "plt.title(\"alpha = 0.5, epsilon = 0.1\")\n",
    "plt.plot(result1, label=r\"$1$\")\n",
    "plt.plot(result2, label=r\"$2$\")\n",
    "plt.plot(result3, label=r\"$3$\")\n",
    "plt.plot(result4, label=r\"$4$\")\n",
    "plt.legend()\n",
    "plt.ylabel(\"choice ratio\")\n",
    "plt.xlabel(\"trials * 10\")\n",
    "plt.show()"
   ]
  },
  {
   "cell_type": "markdown",
   "metadata": {},
   "source": [
    "Terugblikkend op je vorige twee antwoorden:\n",
    "* Welk van de twee modellen zit doorgaans dichter bij de waarheid als je kijkt naar de Q-values? \n",
    "* Welk model behaalt doorgaans een hogere totale score? \n",
    "* Leg aan de hand van de plots uit waar de verschillen vandaan komen"
   ]
  },
  {
   "cell_type": "markdown",
   "metadata": {},
   "source": [
    "> *Antwoord*\n",
    "\n",
    "The model with $\\alpha$ = 0.5 gets closer to the correct Q values, the same holds for the best total score.\n",
    "The model with a higher $\\alpha$ needs to see the higher value states less often to calculate the correct expected value as such we change to the higher value state faster "
   ]
  },
  {
   "cell_type": "markdown",
   "metadata": {},
   "source": [
    "### Q1.d (4 punten)\n",
    "\n",
    "Laten we nu verder kijken naar de verschillende leermodellen (lees: combinaties van parameterwaardes). Je zal in de vorige onderdelen hebben ervaren dat er veel random noise is. Als gevolg van de random noise kan het gebeuren dat in één leerepisode de beste kist niet gevonden wordt. Het is daarom goed om naar het gemiddelde te kijken van meerdere runs om een beter beeld te krijgen van een specifiek algoritme.  \n",
    "\n",
    "Schrijf nu een loop die `q_learn` 500 keer aanroept met een bepaalde parametersetting (en nog altijd 200 leerrondes) en sla telkens de totale score op, zodat je aan het eind een lijst hebt van 500 totale scores.\n",
    "\n",
    "Vergelijk het gemiddelde van de 500 totaalscores voor $\\alpha=0.1$, $\\alpha=0.3$ en $\\alpha=0.5$. Gebruik $\\epsilon=0.1$ voor alle experimenten. Verklaar hoe de verschillen tot stand komen. \n"
   ]
  },
  {
   "cell_type": "code",
   "execution_count": 50,
   "metadata": {},
   "outputs": [
    {
     "name": "stdout",
     "output_type": "stream",
     "text": [
      "score_01: 8419.620984880374\n",
      "score_03: 11415.853722267591\n",
      "score_05: 11884.448917193105\n"
     ]
    }
   ],
   "source": [
    "# TO DO\n",
    "\n",
    "score_01 = []\n",
    "score_03 = []\n",
    "score_05 = []\n",
    "for i in range(500):\n",
    "    score_01.append(q_learn(0.1, 0.1)[1])\n",
    "    score_03.append(q_learn(0.3, 0.1)[1])\n",
    "    score_05.append(q_learn(0.5, 0.1)[1])\n",
    "print(f'score_01: {np.mean(score_01)}')\n",
    "print(f'score_03: {np.mean(score_03)}')\n",
    "print(f'score_05: {np.mean(score_05)}')"
   ]
  },
  {
   "cell_type": "markdown",
   "metadata": {},
   "source": [
    "> *Antwoord*\n",
    "\n",
    "Met een lage learning rate leert het model niet snel genoeg om snel de optimale route te vinden, daardoor haalt het een lagere score. Het verschil tussen $\\alpha = 0.3$ en $\\alpha = 0.5$ is dat een $\\alpha$ van 0.5 waarschijnlijk sneller de optimale actie vind dan het model van $\\alpha = 0.3$"
   ]
  },
  {
   "cell_type": "markdown",
   "metadata": {},
   "source": [
    "---\n",
    "\n",
    "# II. Exploration-Exploitation\n",
    "\n",
    "## 2.  $\\epsilon$-greedy\n",
    "\n",
    "We gaan nog wat dieper in op het exploration vs. exploitation dilemma. De robot gebruikt nu de meest simpele exploratieregel: $\\epsilon $-greedy. Laten we kijken hoe verschillende waardes voor  $\\epsilon$ uitwerking hebben op de totale score die behaald wordt. \n",
    "\n",
    "Gebruik hier de functie `q_learn` met $\\epsilon=0.05$, $\\epsilon=0.2$ en $\\epsilon=0.6$. Gebruik $\\alpha=0.3$ voor alle experimenten. \n",
    "\n",
    "### Q2.a (4 punten)\n",
    "\n",
    "Kijk voor elke parametersetting weer naar de gemiddelde totaalscore van 500 leer-episodes. Waar ligt ongeveer het optimale niveau van exploratie? Probeer te verklaren waarom de alternatieven minder goede resultaten opleveren (bijvoorbeeld waarom is een te hoge of juist te lage $\\epsilon$ niet goed)."
   ]
  },
  {
   "cell_type": "code",
   "execution_count": 51,
   "metadata": {},
   "outputs": [
    {
     "name": "stdout",
     "output_type": "stream",
     "text": [
      "score_005: 10543.498083644443\n",
      "score_02: 11904.884036421165\n",
      "score_06: 10540.56009446121\n"
     ]
    }
   ],
   "source": [
    "\n",
    "score_005 = []\n",
    "score_02 = []\n",
    "score_06 = []\n",
    "\n",
    "for i in range(500):\n",
    "    score_005.append(q_learn(0.3, 0.05)[1])\n",
    "    score_02.append(q_learn(0.3, 0.2)[1])\n",
    "    score_06.append(q_learn(0.3, 0.6)[1])\n",
    "    \n",
    "print(f'score_005: {np.mean(score_005)}')\n",
    "print(f'score_02: {np.mean(score_02)}')\n",
    "print(f'score_06: {np.mean(score_06)}')\n"
   ]
  },
  {
   "cell_type": "markdown",
   "metadata": {},
   "source": [
    "> *Antwoord*\n",
    "\n",
    "Met een lage epsilon vindt het model pas later in de trials hogere rewards. Daardoor heeft een lagere reward in totaal\n",
    "Met een te hoge epsilon wordt er teveel exploratie gedaan, ook als het model al een hoge reward heeft gevonden. Daardoor haalt het minder reward in totaal. \n",
    "Het optimale niveau van exploratie ligt dus ongeveer op $\\epsilon = 0.2$"
   ]
  },
  {
   "cell_type": "markdown",
   "metadata": {},
   "source": [
    "### Q2.b (4 punten)\n",
    "In Machine Learning en Deep Neural Nets wordt nog steeds vaak gebruik gemaakt van $\\epsilon$-greedy, ook al is dit niet een exploratieregel die mensen lijken te gebruiken. Ook hier is het kiezen van een goede waarde voor $\\epsilon$ vaak het resultaat van trial en error. Het kan dus zo zijn dat de onderzoeker niet de optimale waarde kiest. Een regel die vaak wordt toegepast is dat de waarde van $\\epsilon$ afneemt gedurende het experiment. \n",
    "\n",
    "Pas nu `q_learn` zo aan dat de parameter $\\epsilon$ gedurende een leer-episode (dus gedurende 200 trials) steeds kleiner wordt. Verschillende manieren zijn mogelijk, maar doe dit in deze opgave door na elke trial $\\epsilon$ met een vast percentage te verkleinen (denk aan iets tussen 0 en 10%). Sla dit model op als `q_learn_decay()`. Schrijf de functie zodanig dat het invullen van bijvoorbeeld `decay = 0.05` ertoe leidt dat $\\epsilon$ na elke trial met 5% wordt verlaagd."
   ]
  },
  {
   "cell_type": "code",
   "execution_count": 52,
   "metadata": {},
   "outputs": [],
   "source": [
    "def q_learn_decay(alpha, epsilon, trials=200, decay=0):\n",
    "    expected_Q1 = 0\n",
    "    expected_Q2 = 0\n",
    "    expected_Q3 = 0\n",
    "    expected_Q4 = 0\n",
    "    choice_1 = np.zeros(trials)\n",
    "    choice_2 = np.zeros(trials)\n",
    "    choice_3 = np.zeros(trials)\n",
    "    choice_4 = np.zeros(trials)\n",
    "    total_score = 0\n",
    "\n",
    "    outcomes = []\n",
    "\n",
    "    for i in range(trials):\n",
    "        kist_1 = np.random.normal(20, 4)\n",
    "        kist_2 = np.random.normal(30, 4)\n",
    "        kist_3 = np.random.normal(50, 4)\n",
    "        kist_4 = np.random.normal(70, 4)\n",
    "        if np.random.rand() < epsilon:\n",
    "            choice = np.random.randint(0, 4)\n",
    "        else:\n",
    "            choice = [expected_Q1, expected_Q2, expected_Q3, expected_Q4].index(max([expected_Q1, expected_Q2, expected_Q3, expected_Q4]))\n",
    "        if choice == 0:\n",
    "            reward = kist_1\n",
    "            expected_Q1 = expected_Q1 + alpha * (reward - expected_Q1)\n",
    "            total_score += reward\n",
    "            choice_1[i] = 1\n",
    "            outcomes.append(reward)\n",
    "        elif choice == 1:\n",
    "            reward = kist_2\n",
    "            expected_Q2 = expected_Q2 + alpha * (reward - expected_Q2)\n",
    "            total_score += reward\n",
    "            choice_2[i] = 1\n",
    "            outcomes.append(reward)\n",
    "\n",
    "        elif choice == 2:\n",
    "            reward = kist_3\n",
    "            expected_Q3 = expected_Q3 + alpha * (reward - expected_Q3)\n",
    "            total_score += reward\n",
    "            choice_3[i] = 1\n",
    "            outcomes.append(reward)\n",
    "\n",
    "        elif choice == 3:\n",
    "            reward = kist_4\n",
    "            expected_Q4 = expected_Q4 + alpha * (reward - expected_Q4)\n",
    "            total_score += reward\n",
    "            choice_4[i] = 1\n",
    "            outcomes.append(reward)\n",
    "        \n",
    "        if epsilon > 0:\n",
    "            epsilon -= epsilon * decay\n",
    "        else:\n",
    "            epsilon = 0\n",
    "\n",
    "    Q = [expected_Q1, expected_Q2, expected_Q3, expected_Q4]\n",
    "    return (Q, total_score, choice_1, choice_2, choice_3, choice_4, outcomes)"
   ]
  },
  {
   "cell_type": "markdown",
   "metadata": {},
   "source": [
    "### Q2.c (4 punten)\n",
    "\n",
    "Onderzoek weer de gemiddelde totaalscore over 500 leer-episodes, maar nu voor `q_learn_decay`. Verken waarden van $\\epsilon$ tussen .1 en .9. Gebruik hierbij wederom 200 rondes per leer-episode, en gebruik $\\alpha =  0.3$ en `decay = 0.05`. Voor welke waarden van $\\epsilon$ presteert `q_learn_decay` het best? Waarom denk je dat dat zo is? Kun je voor het behalen van een hoge totaalscore beter `q_learn` of `q_learn_decay` gebruiken?"
   ]
  },
  {
   "cell_type": "code",
   "execution_count": 53,
   "metadata": {},
   "outputs": [
    {
     "name": "stdout",
     "output_type": "stream",
     "text": [
      "score_01_decay: 6598.428358084247\n",
      "score_03_decay: 13277.7472160377\n",
      "score_05_decay: 13691.216634445487\n",
      "score_09_decay: 12689.716744633151\n"
     ]
    }
   ],
   "source": [
    "score_01_decay = q_learn_decay(0.3, 0.1, decay=0.05)[1]\n",
    "score_03_decay = q_learn_decay(0.3, 0.3, decay=0.05)[1]\n",
    "score_05_decay = q_learn_decay(0.3, 0.5, decay=0.05)[1]\n",
    "score_09_decay = q_learn_decay(0.3, 0.9, decay=0.05)[1]\n",
    "print(f'score_01_decay: {score_01_decay}')\n",
    "print(f'score_03_decay: {score_03_decay}')\n",
    "print(f'score_05_decay: {score_05_decay}')\n",
    "print(f'score_09_decay: {score_09_decay}')\n"
   ]
  },
  {
   "cell_type": "markdown",
   "metadata": {},
   "source": [
    "Het model presteert het beste voor $\\epsilon = 0.9$. Dit komt doordat een afname van 5% per trial best veel is. Na 20 trials zal het model niet meer exploreren, dus je wilt dat het model in het begin heel veel exploreert. Na die 20 trials gaat het model alleen nog maar exploiten, dus dan moet het een zo'n optimaal mogelijke strategie hebben.\n",
    "\n",
    "Je kan beter `q_learn_decay` gebruiken, omdat je in het begin veel wilt exploreren zodat je zo snel mogelijk een zo hoog mogelijke reward krijgt."
   ]
  },
  {
   "cell_type": "markdown",
   "metadata": {},
   "source": [
    "---\n",
    "\n",
    "## 3. Softmax\n",
    "\n",
    "Een andere, zeer populaire, methode om met het exploratie-explotatie dilemma om te gaan is de softmax beslisregel. Deze kan worden gebruikt om de kans uit te rekenen dat de robot een specifieke kist kiest. De kans dat de robot op een bepaald moment kist i kiest is:\n",
    "\n",
    "$$P(\\text{kist i}) = \\frac{\\exp(Q(i)\\cdot\\theta)}{\\sum_s \\exp(Q(s)\\cdot\\theta)}, \\qquad \\text{voor alle } i \\in \\{1, 2, 3, 4\\}$$\n",
    "\n",
    "De notatie $\\exp(x)$ staat hier voor $e^x$. Natuurlijk geldt op ieder moment $P(\\text{kist 1}) + P(\\text{kist 2}) + P(\\text{kist 3}) + P(\\text{kist 4}) = 1$. De robot kiest immers altijd één van de 4 opties, dus bij elkaar opgeteld moeten de kansen 100% zijn.\n",
    "\n",
    "De waarde van $\\theta$ bepaalt de mate waarin het verschil in verwachte waarden (Q-waarden) de kans op een bepaalde keuze vergroot. Deze parameter wordt ook wel de *inverse temperature* genoemd. Als de waarde van $\\theta$ *laag* is, is de temperatuur van de functie *hoog* en dan doet het verschil in Q-waarden er niet zoveel toe, dus worden er meer random keuzes gemaakt. Oftewel, er zal meer geëxploreerd worden. Dat getuigt van een zekere buigzaamheid, we zijn dan immers minder toegewijd aan een specifieke keuze. De term temperatuur komt van de analogie met het smeden van ijzer: bij een hoge temperatuur is ijzer makkelijker te buigen. \n",
    "\n",
    "### Q3 (6 punten)\n",
    "\n",
    "Implementeer nu de softmax-regel door de code die je hebt geschreven voor de functie `q_learn` te kopiëren en aan te passen. Geef je nieuwe functie de naam `q_learn_softmax`.\n",
    "\n",
    "Gebruik voor `q_lean_softmax` weer de gemiddelde totaalscore van 500 leer-episodes om verschillende waardes van $\\theta$ met elkaar te vergelijken (tenminste vijf verschillende waardes tussen $0.01$ en $1$), met wederom 200 rondes per leer-episode en $\\alpha=0.3$.\n",
    "\n",
    "Wat is ongeveer de optimale waarde voor $\\theta$?"
   ]
  },
  {
   "cell_type": "code",
   "execution_count": 54,
   "metadata": {},
   "outputs": [
    {
     "name": "stdout",
     "output_type": "stream",
     "text": [
      "score_01_softmax: 8533.086431706512\n",
      "score_03_softmax: 10217.85236081595\n",
      "score_05_softmax: 12177.950309164702\n",
      "score_09_softmax: 11175.601261204542\n"
     ]
    }
   ],
   "source": [
    "def q_learn_softmax(alpha, theta, trials=200):\n",
    "    # TO DO\n",
    "    expected_Q1 = 0\n",
    "    expected_Q2 = 0\n",
    "    expected_Q3 = 0\n",
    "    expected_Q4 = 0\n",
    "    choice_1 = np.zeros(trials)\n",
    "    choice_2 = np.zeros(trials)\n",
    "    choice_3 = np.zeros(trials)\n",
    "    choice_4 = np.zeros(trials)\n",
    "    total_score = 0\n",
    "    outcomes = []\n",
    "\n",
    "    for i in range(trials):\n",
    "        kist_1 = np.random.normal(20, 4)\n",
    "        kist_2 = np.random.normal(30, 4)\n",
    "        kist_3 = np.random.normal(50, 4)\n",
    "        kist_4 = np.random.normal(70, 4)\n",
    "        sum_all = np.exp(expected_Q1 * theta) + np.exp(expected_Q2 * theta) + np.exp(expected_Q3 * theta) + np.exp(expected_Q4 * theta)\n",
    "        prob_choice1 = np.exp(expected_Q1 * theta)/sum_all\n",
    "        prob_choice2 = np.exp(expected_Q2 * theta)/sum_all\n",
    "        prob_choice3 = np.exp(expected_Q3 * theta)/sum_all\n",
    "        prob_choice4 = np.exp(expected_Q4 * theta)/sum_all\n",
    "        prob_choice = [prob_choice1, prob_choice2, prob_choice3, prob_choice4]\n",
    "        choice = np.random.choice([0, 1, 2, 3], p=prob_choice)\n",
    "        if choice == 0:\n",
    "            reward = kist_1\n",
    "            expected_Q1 = expected_Q1 + alpha * (reward - expected_Q1)\n",
    "            total_score += reward\n",
    "            choice_1[i] = 1\n",
    "            outcomes.append(reward)\n",
    "        elif choice == 1:\n",
    "            reward = kist_2\n",
    "            expected_Q2 = expected_Q2 + alpha * (reward - expected_Q2)\n",
    "            total_score += reward\n",
    "            choice_2[i] = 1\n",
    "            outcomes.append(reward)\n",
    "\n",
    "        elif choice == 2:\n",
    "            reward = kist_3\n",
    "            expected_Q3 = expected_Q3 + alpha * (reward - expected_Q3)\n",
    "            total_score += reward\n",
    "            choice_3[i] = 1\n",
    "            outcomes.append(reward)\n",
    "\n",
    "        elif choice == 3:\n",
    "            reward = kist_4\n",
    "            expected_Q4 = expected_Q4 + alpha * (reward - expected_Q4)\n",
    "            total_score += reward\n",
    "            choice_4[i] = 1\n",
    "            outcomes.append(reward)\n",
    "    Q = [expected_Q1, expected_Q2, expected_Q3, expected_Q4]\n",
    "    return (Q, total_score, choice_1, choice_2, choice_3, choice_4, outcomes)\n",
    "\n",
    "\n",
    "# TO DO: vergelijk parameter waardes\n",
    "score_01_softmax = q_learn_softmax(0.3, 0.0)[1]\n",
    "score_03_softmax = q_learn_softmax(0.3, 0.03)[1]\n",
    "score_05_softmax = q_learn_softmax(0.3, 0.05)[1]\n",
    "score_09_softmax = q_learn_softmax(0.3, 0.09)[1]\n",
    "print(f'score_01_softmax: {score_01_softmax}')\n",
    "print(f'score_03_softmax: {score_03_softmax}')\n",
    "print(f'score_05_softmax: {score_05_softmax}')\n",
    "print(f'score_09_softmax: {score_09_softmax}')\n",
    "\n"
   ]
  },
  {
   "cell_type": "markdown",
   "metadata": {},
   "source": [
    "> *Antwoord*\n",
    "\n",
    "De optimale waarde voor $\\theta$ is ongeveer 0.09"
   ]
  },
  {
   "cell_type": "markdown",
   "metadata": {},
   "source": [
    "We willen nu weten waar de verschillen vandaan komen. Laat zowel voor $\\theta$ = $0.1$ als $\\theta = 1$ zien wat de Q-waarden en totaalscore zijn na een leer-episode. Plot voor diezelfde leer-episode ook weer de keuzeratio's per 10 trials (zelfde als bij Q1.c).\n",
    "\n",
    "__Let op:__ We hebben te maken met toevalsexperimenten, dus iedere keer dat je je code runt zullen de Q-waarden, totaalscores en plots anders zijn. Run je code daarom meerdere keren en rapporteer de output van een leer-episode die jij representatief vindt voor alles wat je langs hebt zien komen."
   ]
  },
  {
   "cell_type": "code",
   "execution_count": 55,
   "metadata": {},
   "outputs": [
    {
     "data": {
      "image/png": "[encoded data removed]",
      "text/plain": [
       "<Figure size 640x480 with 1 Axes>"
      ]
     },
     "metadata": {},
     "output_type": "display_data"
    },
    {
     "name": "stdout",
     "output_type": "stream",
     "text": [
      "score_softmax: 9448.547022936282\n",
      "Q_softmax: [6.103158078997007, 30.2593387881314, 48.35352729336124, 18.10224796147815]\n"
     ]
    },
    {
     "data": {
      "image/png": "[encoded data removed]",
      "text/plain": [
       "<Figure size 640x480 with 1 Axes>"
      ]
     },
     "metadata": {},
     "output_type": "display_data"
    },
    {
     "name": "stdout",
     "output_type": "stream",
     "text": [
      "score_softmax: 13945.292975301203\n",
      "Q_softmax: [0, 0, 0, 68.92429582841056]\n"
     ]
    }
   ],
   "source": [
    "# TO DO plot\n",
    "plt.title(\"Softmax theta = 0.1, alpha = 0.3\")\n",
    "Q, score, choice_1, choice_2, choice_3, choice_4, outcomes = q_learn_softmax(0.3, 0.1)\n",
    "\n",
    "result1 = choice_1.reshape(-1, 10).mean(axis=1)\n",
    "result2 = choice_2.reshape(-1, 10).mean(axis=1)\n",
    "result3 = choice_3.reshape(-1, 10).mean(axis=1)\n",
    "result4 = choice_4.reshape(-1, 10).mean(axis=1)\n",
    "plt.plot(result1, label=r\"$1$\")\n",
    "plt.plot(result2, label=r\"$2$\")\n",
    "plt.plot(result3, label=r\"$3$\")\n",
    "plt.plot(result4, label=r\"$4$\")\n",
    "plt.legend()\n",
    "plt.ylabel(\"choice ratio\")\n",
    "plt.xlabel(\"trials\")\n",
    "plt.show()\n",
    "print(f'score_softmax: {score}')\n",
    "print(f'Q_softmax: {Q}')\n",
    "\n",
    "plt.title(\"Softmax theta = 1, alpha = 0.3\")\n",
    "Q, score, choice_1, choice_2, choice_3, choice_4, outcomes = q_learn_softmax(0.3, 1.0)\n",
    "\n",
    "result1 = choice_1.reshape(-1, 10).mean(axis=1)\n",
    "result2 = choice_2.reshape(-1, 10).mean(axis=1)\n",
    "result3 = choice_3.reshape(-1, 10).mean(axis=1)\n",
    "result4 = choice_4.reshape(-1, 10).mean(axis=1)\n",
    "plt.plot(result1, label=r\"$1$\")\n",
    "plt.plot(result2, label=r\"$2$\")\n",
    "plt.plot(result3, label=r\"$3$\")\n",
    "plt.plot(result4, label=r\"$4$\")\n",
    "plt.legend()\n",
    "plt.ylabel(\"choice ratio\")\n",
    "plt.xlabel(\"trials\")\n",
    "plt.show()\n",
    "print(f'score_softmax: {score}')\n",
    "print(f'Q_softmax: {Q}')\n"
   ]
  },
  {
   "cell_type": "markdown",
   "metadata": {},
   "source": [
    "Wat laten deze waardes en grafieken je zien?"
   ]
  },
  {
   "cell_type": "markdown",
   "metadata": {},
   "source": [
    "> *Antwoord*\n",
    "\n",
    "Als $\\theta = 1$ dan zal de softmax altijd een greedy policy hanteren. Als $\\theta = 0.1$, dan blijft het model exploreren, wat uiteindelijk resulteert in een hogere totale score\n"
   ]
  },
  {
   "cell_type": "markdown",
   "metadata": {},
   "source": [
    "---\n",
    "\n",
    "## 4. Upper Confidence Bound\n",
    "\n",
    "De softmax-regel is vaak al beter dan $\\epsilon$-greedy, maar exploratie is nog steeds random. Als we kijken naar het gedrag van mensen, zien we dat mensen slim zijn en niet random verkennen (exploreren). Een zeer populaire methode om niet geheel random exploratie te implementeren is met Upper Confidence Bound exploratie. \n",
    "\n",
    "Volgens deze regel krijgen de mogelijke acties niet alleen een $Q$-waarde, maar ook een $Q'$-waarde. Steeds wordt de actie gekozen met de hoogste $Q'$-waarde. Als meerdere acties de hoogste $Q'$-waarde hebben, dan wordt random één van deze acties gekozen. De $Q'$-waarde van een actie wordt gegeven door haar $Q$-waarde *plus* een bonus $\\eta$ om exploratie te stimuleren. Deze bonus maakt het model nieuwsgieriger. Hier is een populaire versie genaamd UCB1:\n",
    "\n",
    "$$Q'(action) = Q(action)+ \\eta(action)$$\n",
    "\n",
    "$$\\eta(action) = \\sqrt{\\frac{\\theta \\cdot \\log(t)}{N_t(action)}}$$\n",
    "\n",
    "Hierbij staat $t$ voor het rondenummer in het experiment (zero-based indexing), en $N_t$ voor het aantal keer dat de actie tot dusver gekozen is. De parameter $\\theta$ schaalt de grootte van de exploratiebonus (met een hogere $\\theta$ is de robot nieuwsgieriger). Bovendien: hoe minder vaak er voor $action$ is gekozen, hoe lager $N_t(action)$, hoe hoger $\\eta(action)$, hoe hoger $Q'(action)$. Op deze manier wordt exploratie van weinig gekozen acties dus inderdaad gestimuleerd.\n",
    "\n",
    "**Let op:** het algoritme kiest aan het begin van het experiment elke actie minstens één keer, en daarna wordt pas gekozen op basis van de hoogste $Q'$-waarde. In de huidige context wordt dus in de ronde met index $0,1,2,3$ respectievelijk kist $1,2,3,4$ gekozen, en daarna gaat de hierboven beschreven keuzeregel van start. \n",
    "\n",
    "### Q4.a (6 punten)\n",
    "\n",
    "Implementeer nu de UCB1 exploratieregel op basis van de `q_learn` functie en geef deze de naam `q_learn_UCB`."
   ]
  },
  {
   "cell_type": "code",
   "execution_count": 56,
   "metadata": {
    "scrolled": true
   },
   "outputs": [],
   "source": [
    "def q_learn_UCB(alpha, theta, trials=200):\n",
    "    expected_Q1 = 0\n",
    "    expected_Q2 = 0\n",
    "    expected_Q3 = 0\n",
    "    expected_Q4 = 0\n",
    "    choice_1 = np.zeros(trials)\n",
    "    choice_2 = np.zeros(trials)\n",
    "    choice_3 = np.zeros(trials)\n",
    "    choice_4 = np.zeros(trials)\n",
    "    total_score = 0\n",
    "    outcomes = []\n",
    "\n",
    "    for i in range(trials):\n",
    "        kist_1 = np.random.normal(20, 4)\n",
    "        kist_2 = np.random.normal(30, 4)\n",
    "        kist_3 = np.random.normal(50, 4)\n",
    "        kist_4 = np.random.normal(70, 4)\n",
    "            \n",
    "        if i < 4:\n",
    "            choice = i\n",
    "        else:\n",
    "            expected_Q1_prime = expected_Q1 + np.sqrt((theta * np.log(i)) / (sum(choice_1)))\n",
    "            expected_Q2_prime = expected_Q2 + np.sqrt((theta * np.log(i)) / (sum(choice_2) ))\n",
    "            expected_Q3_prime = expected_Q3 + np.sqrt((theta * np.log(i)) / (sum(choice_3) ))\n",
    "            expected_Q4_prime = expected_Q4 + np.sqrt((theta * np.log(i)) / (sum(choice_4) ))\n",
    "            \n",
    "            if 4 == len({expected_Q1_prime, expected_Q2_prime, expected_Q3_prime, expected_Q4_prime}):\n",
    "                choice = [expected_Q1_prime, expected_Q2_prime, expected_Q3_prime, expected_Q4_prime].index(max([expected_Q1_prime, expected_Q2_prime, expected_Q3_prime, expected_Q4_prime]))\n",
    "            else:\n",
    "                best_list = []\n",
    "                for i in range(len([expected_Q1_prime, expected_Q2_prime, expected_Q3_prime, expected_Q4_prime])):\n",
    "                    if [expected_Q1_prime, expected_Q2_prime, expected_Q3_prime, expected_Q4_prime][i] == max([expected_Q1_prime, expected_Q2_prime, expected_Q3_prime, expected_Q4_prime]):\n",
    "                        best_list.append(i)\n",
    "                choice = np.random.choice(best_list)\n",
    "\n",
    "        if choice == 0:\n",
    "            reward = kist_1\n",
    "            expected_Q1 = expected_Q1 + alpha * (reward - expected_Q1)\n",
    "            total_score += reward\n",
    "            choice_1[i] = 1\n",
    "            outcomes.append(reward)\n",
    "        elif choice == 1:\n",
    "            reward = kist_2\n",
    "            expected_Q2 = expected_Q2 + alpha * (reward - expected_Q2)\n",
    "            total_score += reward\n",
    "            choice_2[i] = 1\n",
    "            outcomes.append(reward)\n",
    "\n",
    "        elif choice == 2:\n",
    "            reward = kist_3\n",
    "            expected_Q3 = expected_Q3 + alpha * (reward - expected_Q3)\n",
    "            total_score += reward\n",
    "            choice_3[i] = 1\n",
    "            outcomes.append(reward)\n",
    "\n",
    "        elif choice == 3:\n",
    "            reward = kist_4\n",
    "            expected_Q4 = expected_Q4 + alpha * (reward - expected_Q4)\n",
    "            total_score += reward\n",
    "            choice_4[i] = 1\n",
    "            outcomes.append(reward)\n",
    "    Q = [expected_Q1, expected_Q2, expected_Q3, expected_Q4]\n",
    "    return (Q, total_score, choice_1, choice_2, choice_3, choice_4, outcomes)\n"
   ]
  },
  {
   "cell_type": "markdown",
   "metadata": {},
   "source": [
    "* Reken voor `q_learn_UCB` weer de gemiddelde totaalscore voor 500 leer-episodes uit voor $\\theta = 2$ (default voor UCB1), met wederom 200 rondes per episode en $\\alpha = 0.3$.\n",
    "* Plot ook weer de keuzeratio's per 10 trials (zoals bij Q1.c)."
   ]
  },
  {
   "cell_type": "code",
   "execution_count": 57,
   "metadata": {},
   "outputs": [
    {
     "name": "stdout",
     "output_type": "stream",
     "text": [
      "score_01_UCB: 13885.941658214773\n",
      "score_03_UCB: 13888.815608653125\n",
      "score_05_UCB: 13888.05319927321\n",
      "score_09_UCB: 13886.80888666791\n",
      "[0.1 0.  0.  0.  0.  0.  0.  0.  0.  0.  0.  0.  0.  0.  0.  0.  0.  0.\n",
      " 0.  0. ]\n"
     ]
    },
    {
     "data": {
      "image/png": "[encoded data removed]",
      "text/plain": [
       "<Figure size 640x480 with 1 Axes>"
      ]
     },
     "metadata": {},
     "output_type": "display_data"
    }
   ],
   "source": [
    "# TO DO gemiddelde\n",
    "score_01_UCB = []\n",
    "score_03_UCB = []\n",
    "score_05_UCB = []\n",
    "score_09_UCB = []\n",
    "for i in range(200):\n",
    "    score_01_UCB.append(q_learn_UCB(0.3, 0.1)[1])\n",
    "    score_03_UCB.append(q_learn_UCB(0.3, 0.3)[1])\n",
    "    score_05_UCB.append(q_learn_UCB(0.3, 0.5)[1])\n",
    "    score_09_UCB.append(q_learn_UCB(0.3, 0.9)[1])\n",
    "print(f'score_01_UCB: {np.mean(score_01_UCB)}')\n",
    "print(f'score_03_UCB: {np.mean(score_03_UCB)}')\n",
    "print(f'score_05_UCB: {np.mean(score_05_UCB)}')\n",
    "print(f'score_09_UCB: {np.mean(score_09_UCB)}')\n",
    "\n",
    "plt.title(\"UCB alpha = 0.3, theta = 0.1\")\n",
    "Q, score, choice_1, choice_2, choice_3, choice_4, outcomes = q_learn_UCB(0.3, 0.1)\n",
    "result1 = choice_1.reshape(-1, 10).mean(axis=1)\n",
    "result2 = choice_2.reshape(-1, 10).mean(axis=1)\n",
    "result3 = choice_3.reshape(-1, 10).mean(axis=1)\n",
    "result4 = choice_4.reshape(-1, 10).mean(axis=1)\n",
    "plt.plot(result1, label=r\"$1$\")\n",
    "plt.plot(result2, label=r\"$2$\")\n",
    "plt.plot(result3, label=r\"$3$\")\n",
    "plt.plot(result4, label=r\"$4$\")\n",
    "plt.legend()\n",
    "print(result1)\n",
    "plt.ylabel(\"choice ratio\")\n",
    "plt.xlabel(\"trials\")\n",
    "plt.show()\n",
    "\n"
   ]
  },
  {
   "cell_type": "markdown",
   "metadata": {},
   "source": [
    "* Als je kijkt naar de implementatie, hoe verhoudt dit model zich tot de simpele versie van $\\epsilon$-greedy en soft-max? \n",
    "* Kijk ook naar het aantal punten dat het behaalt, waar komt het verschil in prestatie vandaan?"
   ]
  },
  {
   "cell_type": "markdown",
   "metadata": {},
   "source": [
    "> *Antwoord*\n",
    "\n",
    "The model seems to only select the correct choice after the first few trials, this is different to softmax and epsilon greedy. \n",
    "The model gets a higher reward because the highest scoring score gets the best expected value and is chosen more often in comparison with other values\n",
    "\n"
   ]
  },
  {
   "cell_type": "markdown",
   "metadata": {},
   "source": [
    "### Q4.b (6 punten) \n",
    "De exploration-exploitation trade-off wordt al lange tijd onderzocht en is een van de meest interessante problemen in reinforcement learning. In dit voorbeeld was het best makkelijk voor het algoritme om de oplossing te vinden omdat de 4 schatkisten redelijk veel verschilden van elkaar, maar dit is niet altijd het geval. Kijk maar eens wat er gebeurt als je de standaarddeviatie in `q_learn_UCB` van 4 naar 10 verandert, of als je de means dichter bij elkaar zet. Dan zal je ook zien dat je een hogereexploratie waarde $\\theta$ nodig hebt om tot de beste oplossing te komen.\n",
    "\n",
    "* Verander de SD en means van de schatkisten: <br>\n",
    "    `means = [20, 30, 35, 45]`<br>\n",
    "    `std_dev = 10`\n",
    "* Simuleer nu weer voor verschillende waardes van $\\theta$ het algoritme voor 500 leer-epsiodes met ieder 200 trials (verken tenminste vier $\\theta$-waardes tussen $2$ en $50$);\n",
    "* Rapporteer de gemiddelde totaalscores en de beste $\\theta$-waarde.\n"
   ]
  },
  {
   "cell_type": "code",
   "execution_count": 58,
   "metadata": {},
   "outputs": [
    {
     "name": "stdout",
     "output_type": "stream",
     "text": [
      "score_02_UCB_new: 8294.077368138907\n",
      "score_25_UCB_new: 8337.653771689793\n",
      "score_35_UCB_new: 8487.301611530835\n",
      "score_50_UCB_new: 8473.994533900011\n"
     ]
    }
   ],
   "source": [
    "def q_learn_UCB_new(alpha, theta, trials=200):\n",
    "    # TO DO \n",
    "    expected_Q1 = 0\n",
    "    expected_Q2 = 0\n",
    "    expected_Q3 = 0\n",
    "    expected_Q4 = 0\n",
    "    expected_Q1_prime = 0\n",
    "    expected_Q2_prime = 0\n",
    "    expected_Q3_prime = 0\n",
    "    expected_Q4_prime = 0\n",
    "    choice_1 = np.zeros(trials)\n",
    "    choice_2 = np.zeros(trials)\n",
    "    choice_3 = np.zeros(trials)\n",
    "    choice_4 = np.zeros(trials)\n",
    "    total_score = 0\n",
    "\n",
    "    outcomes = []\n",
    "    for i in range(trials):\n",
    "        kist_1 = np.random.normal(20, 10)\n",
    "        kist_2 = np.random.normal(30, 10)\n",
    "        kist_3 = np.random.normal(35, 10)\n",
    "        kist_4 = np.random.normal(45, 10)\n",
    "        if i < 4:\n",
    "            choice = i\n",
    "        else:\n",
    "            expected_Q1_prime = expected_Q1 + np.sqrt((theta * np.log(i)) / (sum(choice_1)))\n",
    "            expected_Q2_prime = expected_Q2 + np.sqrt((theta * np.log(i)) / (sum(choice_2)))\n",
    "            expected_Q3_prime = expected_Q3 + np.sqrt((theta * np.log(i)) / (sum(choice_3)))\n",
    "            expected_Q4_prime = expected_Q4 + np.sqrt((theta * np.log(i)) / (sum(choice_4)))\n",
    "            \n",
    "            if 4 == len({expected_Q1_prime, expected_Q2_prime, expected_Q3_prime, expected_Q4_prime}):\n",
    "                choice = [expected_Q1_prime, expected_Q2_prime, expected_Q3_prime, expected_Q4_prime].index(max([expected_Q1_prime, expected_Q2_prime, expected_Q3_prime, expected_Q4_prime]))\n",
    "            else:\n",
    "                best_list = []\n",
    "                for i in range(len([expected_Q1_prime, expected_Q2_prime, expected_Q3_prime, expected_Q4_prime])):\n",
    "                    if [expected_Q1_prime, expected_Q2_prime, expected_Q3_prime, expected_Q4_prime][i] == max([expected_Q1_prime, expected_Q2_prime, expected_Q3_prime, expected_Q4_prime]):\n",
    "                        best_list.append(i)\n",
    "                choice = np.random.choice(best_list)\n",
    "        if choice == 0:\n",
    "            reward = kist_1\n",
    "            expected_Q1 = expected_Q1 + alpha * (reward - expected_Q1)\n",
    "            total_score += reward\n",
    "            choice_1[i] = 1\n",
    "            outcomes.append(reward)\n",
    "        elif choice == 1:\n",
    "            reward = kist_2\n",
    "            expected_Q2 = expected_Q2 + alpha * (reward - expected_Q2)\n",
    "            total_score += reward\n",
    "            choice_2[i] = 1\n",
    "            outcomes.append(reward)\n",
    "\n",
    "        elif choice == 2:\n",
    "            reward = kist_3\n",
    "            expected_Q3 = expected_Q3 + alpha * (reward - expected_Q3)\n",
    "            total_score += reward\n",
    "            choice_3[i] = 1\n",
    "            outcomes.append(reward)\n",
    "\n",
    "        elif choice == 3:\n",
    "            reward = kist_4\n",
    "            expected_Q4 = expected_Q4 + alpha * (reward - expected_Q4)\n",
    "            total_score += reward\n",
    "            choice_4[i] = 1\n",
    "            outcomes.append(reward)\n",
    "\n",
    "    Q = [expected_Q1, expected_Q2, expected_Q3, expected_Q4]\n",
    "    return (Q, total_score, choice_1, choice_2, choice_3, choice_4, outcomes)\n",
    "\n",
    "# TO DO gemiddelde\n",
    "score_01_UCB_new = []\n",
    "score_03_UCB_new = []\n",
    "score_05_UCB_new = []\n",
    "score_09_UCB_new = []\n",
    "for i in range(500):\n",
    "    score_01_UCB_new.append(q_learn_UCB_new(0.3, 2)[1])\n",
    "    score_03_UCB_new.append(q_learn_UCB_new(0.3, 25)[1])\n",
    "    score_05_UCB_new.append(q_learn_UCB_new(0.3, 35)[1])\n",
    "    score_09_UCB_new.append(q_learn_UCB_new(0.3, 50)[1])\n",
    "print(f'score_02_UCB_new: {np.mean(score_01_UCB_new)}')\n",
    "print(f'score_25_UCB_new: {np.mean(score_03_UCB_new)}')\n",
    "print(f'score_35_UCB_new: {np.mean(score_05_UCB_new)}')\n",
    "print(f'score_50_UCB_new: {np.mean(score_09_UCB_new)}')\n"
   ]
  },
  {
   "cell_type": "markdown",
   "metadata": {},
   "source": [
    "> *Antwoord*\n",
    "\n",
    "The higher $\\theta$ is better, because we look at different chests more often. This helps because we have a lot of noise and we have means that are very close to eachother. Giving a higher exploration a better reward"
   ]
  },
  {
   "cell_type": "markdown",
   "metadata": {},
   "source": [
    "### Samenvatting\n",
    "\n",
    "In de simpele wereld van 4 schatkisten (jargon: 'bandits') is nog met enige moeite uit te vinden welk niveau van exploratie optimaal is, maar dit kost veel tijd. Daarnaast is de echte wereld nog veel complexer, dus dan is het helemaal moeilijk om uit te zoeken wat het beste niveau van exploratie is. Het blijft dus altijd een vraag hoe slimme systemen bepalen hoeveel of weinig zij gaan exploreren. Bij mensen lijken hier ook grote individuele verschillen in te zitten: de een is avontuurlijker dan de ander en mensen passen hun exploratiegedrag aan op de omgeving.\n",
    "\n",
    "#### Curiosity-based exploration in complex systems\n",
    "Voor een veel complexer maar interessant voorbeeld is het leuk om te kijken naar: [Curiosity-driven Exploration by Self-supervised Prediction](https://pathak22.github.io/noreward-rl/). In dit paper probeert een agent de omgeving zo te verkennen dat het op zoek gaat naar states waar het meest over te leren valt, net als UCB. Door alleen heel nieuwsgierig te zijn zorgt het algoritme er al voor dat het heel ver kan komen in bepaalde games, zonder dat beloningen (bv punten) daar een belangrijke rol in spelen!"
   ]
  },
  {
   "cell_type": "markdown",
   "metadata": {},
   "source": [
    "---\n",
    "\n",
    "# III. Model fitting\n",
    "\n",
    "## 5. De vier schatkisten, menselijke keuzes\n",
    "\n",
    "We gaan nu kijken naar de resultaten van een echt experiment. We hebben de data van een proefpersoon die het bovenstaande experiment met de vier kisten echt heeft gespeeld (let op: wel met andere means). In de *L4_data_1.txt* file kunnen we terugvinden welke van de 4 opties zij gekozen had en hoeveel punten er vervolgens in elke trial verdiend zijn. We gaan kijken welke parameterwaardes het gedrag van de proefpersoon het beste voorspellen als we gebruik maken van Q-learning met een softmax keuzeregel. De proefpersoon heeft 80 rondes gespeeld. \n",
    "\n",
    "Lees de data in uit *L4_data_1.txt* (staat in de Data map) met behulp van [loadtxt](https://docs.scipy.org/doc/numpy/reference/generated/numpy.loadtxt.html):\n",
    "```python\n",
    "with open(\"Data\\L4_data_1.txt\") as f:\n",
    "    data = np.loadtxt(f, dtype=int, delimiter=\"\\t\", skiprows=1)\n",
    "```\n",
    "\n",
    "Mocht je moeite hebben met het inlezen van het bestand, probeer dan (ook van toepassingen voor latere inlees-code in deze notebook):\n",
    "```python\n",
    "from pathlib import Path\n",
    "\n",
    "with open(Path(\"Data\") / \"L4_data_1.txt\") as f:\n",
    "    data = np.loadtxt(f, dtype=int, delimiter=\"\\t\", skiprows=1)\n",
    "```\n",
    "\n",
    "We pasen de `q_learn_softmax` functie aan zodat je deze op de data van de proefpersoon kan fitten (zie eerdere opdracht over hoe functies gefit moeten worden en code onderaan voor meer hulp).\n",
    "\n",
    "We gaan ervan uit dat de proefpersoon enige ervaring heeft met dit type experiment en verwachten dat ze gemiddeld wel 40 punten per ronde gaat verdienen (alle Q’s starten op 40 ipv 0). Voor het fitten van het model maken we gebruik van `minimize` van scipy.optimize (`from scipy.optimize import minimize`) en we gaan proberen de *Log Likelihood (LL)* te optimaliseren (= maximaliseren). \n",
    "\n",
    "Wat we bij elke trial willen weten is de kans dat het model dezelfde keuze maakt als de proefpersoon. Hoe groter de kans (likelihood) dat het model correct kiest, hoe beter het model \"fit\". \n",
    "\n",
    "In het databestand van de proefpersoon kun je zien welke van de 4 kisten de proefpersoon koos. Dit kunnen we elke ronde vergelijken met de corresponderende keuzekansen volgens het model. In de eerste ronde zijn alle Q values nog gelijk dus $P(\\text{kist 1}) = P(\\text{kist 2}) = P(\\text{kist 3}) = P(\\text{kist 4}) =  0.25$. Voor de eerste ronde geldt daarom automatisch dat de kans (likelihood) dat de keuze van het model overeenkomt met de keuze van de proefpersoon ook 0.25 is, maar dat gaat veranderen naarmate er geleerd wordt.\n",
    "\n",
    "De output van deze functie moet de som van alle $\\log(P(\\text{kist gekozen}))$ zijn. Let op, deze som wordt vermenigvuldigd met -1 omdat minimize de functie probeert te *minimaliseren*, en we zijn op zoek naar het *maximum* van de log likelihood. \n",
    "\n",
    "`**example code**:`\n",
    "```python\n",
    "from scipy.optimize import minimize\n",
    "\n",
    "with open(\"Data\\L4_data_1.txt\") as f:\n",
    "    data = np.loadtxt(f, dtype=int, delimiter=\"\\t\", skiprows=1)\n",
    "\n",
    "def q_learn_softmax_fit(params):\n",
    "    alpha, theta, init_value = params\n",
    "    nArms = 4\n",
    "    Q = np.array([init_value]*nArms)\n",
    "    LL = 0\n",
    "    \n",
    "    # loop over all trials\n",
    "    for row in data:\n",
    "        \n",
    "        # bereken de kans (probs) dat elke kist gekozen wordt\n",
    "        probs = np.power(np.e, theta*Q)\n",
    "        probs /= sum(probs)\n",
    "        \n",
    "        choice = row[1]-1   # de keuze van de proefpersoon\n",
    "        outcome = row[2]    # de uitkomst van de keuze\n",
    "        \n",
    "        # bereken de log likelihood van de keuze van de proefpersoon (choice)\n",
    "        # Gegeven de huidige Q values van het model, hoe groot was de kans (likelihood) \n",
    "        # dat deze specifieke kist gekozen werd?\n",
    "        LL += np.log(probs[choice]) # houd de som van alle LL bij. \n",
    "        \n",
    "        # Update de Q-values, gegeven de werkelijke keuze en ook de werkelijke outcome \n",
    "        # gebruik daarbij vrije parameter alpha, de learning rate, we proberen de optimale waarde hiervan te vinden\n",
    "        Q[choice] = Q[choice] + alpha * (outcome - Q[choice])\n",
    "    \n",
    "    # Schaal met -1 om de functie te kunnen minimizen\n",
    "    return -1*LL\n",
    "\n",
    "# minimize takes a few arguments (function, array of initial parameter values, minimization methods,\n",
    "# bounds are the bounds on each parameter; use bounds (same, same) to fix parameter to a single value\n",
    "res = minimize(q_learn_softmax_fit, \n",
    "               np.array([0.5, 0.5, 40]), \n",
    "               method='SLSQP',\n",
    "               bounds=[(0,1), (0,10), (40,40)], \n",
    "               options={'disp':True, 'ftol':1e-16})\n",
    "```\n",
    "\n",
    "### Q5.a (7 punten)\n",
    "\n",
    "* Gebruik deze functie en fit het model. \n",
    "* Welke parameterwaarden fitten de data van de proefpersoon het beste? \n",
    "* Wat kan je zeggen over hoe goed het model de keuzes van de proefpersoon voorspelt? (Geef gemiddelde likelihood per trial en wat dat betekent.) <br>\n",
    "\n",
    "    _Minimize geeft de uiteindelijke summed LL (negatief) van het best fittende model. Deze score kan je weer terugrekenen naar een gemiddelde likelihood  per trial: de kans dat het model juiste trial koos. Doe dit en beoordeel de uitkomst. Hints: deel de output door het aantal trials, gebruik de inverse $e^x$ van $\\log(x)$._"
   ]
  },
  {
   "cell_type": "code",
   "execution_count": 59,
   "metadata": {},
   "outputs": [
    {
     "name": "stdout",
     "output_type": "stream",
     "text": [
      "Optimization terminated successfully    (Exit mode 0)\n",
      "            Current function value: 56.08185761957938\n",
      "            Iterations: 12\n",
      "            Function evaluations: 54\n",
      "            Gradient evaluations: 12\n",
      "The optimal alpha is: 0.4892520242236004\n",
      "The optimal theta is: 0.2318010522933705\n",
      "The optimal init value is: 40.0\n",
      "The avarege log likelihood is: 2.015814274547381\n"
     ]
    }
   ],
   "source": [
    "from scipy.optimize import minimize\n",
    "\n",
    "with open(\"Data/L4_data_1.txt\") as f:\n",
    "    data = np.loadtxt(f, dtype=int, delimiter=\"\\t\", skiprows=1)\n",
    "\n",
    "def q_learn_softmax_fit(params):\n",
    "    alpha, theta, init_value = params\n",
    "    nArms = 4\n",
    "    Q = np.array([init_value]*nArms)\n",
    "    LL = 0\n",
    "    \n",
    "    # loop over all trials\n",
    "    for row in data:\n",
    "        \n",
    "        # bereken de kans (probs) dat elke kist gekozen wordt\n",
    "        probs = np.power(np.e, theta*Q)\n",
    "        probs /= sum(probs)\n",
    "        \n",
    "        choice = row[1]-1   # de keuze van de proefpersoon\n",
    "        outcome = row[2]    # de uitkomst van de keuze\n",
    "        \n",
    "        # bereken de log likelihood van de keuze van de proefpersoon (choice)\n",
    "        # Gegeven de huidige Q values van het model, hoe groot was de kans (likelihood) \n",
    "        # dat deze specifieke kist gekozen werd?\n",
    "        LL += np.log(probs[choice]) # houd de som van alle LL bij. \n",
    "        \n",
    "        # Update de Q-values, gegeven de werkelijke keuze en ook de werkelijke outcome \n",
    "        # gebruik daarbij vrije parameter alpha, de learning rate, we proberen de optimale waarde hiervan te vinden\n",
    "        Q[choice] = Q[choice] + alpha * (outcome - Q[choice])\n",
    "    \n",
    "    # Schaal met -1 om de functie te kunnen minimizen\n",
    "    return -1*LL\n",
    "\n",
    "# minimize takes a few arguments (function, array of initial parameter values, minimization methods,\n",
    "# bounds are the bounds on each parameter; use bounds (same, same) to fix parameter to a single value\n",
    "res = minimize(q_learn_softmax_fit, \n",
    "               np.array([0.5, 0.5, 40]), \n",
    "               method='SLSQP',\n",
    "               bounds=[(0,1), (0,10), (40,40)], \n",
    "               options={'disp':True, 'ftol':1e-16})\n",
    "\n",
    "print(f\"The optimal alpha is: {res.x[0]}\")\n",
    "print(f\"The optimal theta is: {res.x[1]}\")\n",
    "print(f\"The optimal init value is: {res.x[2]}\")\n",
    "print(f\"The avarege log likelihood is: {np.exp(res.fun/len(data))}\")\n",
    "\n"
   ]
  },
  {
   "cell_type": "markdown",
   "metadata": {},
   "source": [
    "> *Antwoord*\n",
    "\n",
    "voor parameters zie print hierboven.\n",
    "\n",
    "De gemiddelde log likelihood van de proefpersoon is beter dan random kiezen ($\\log(\\frac{1}{4}) > -2$).\n",
    "Het model voorspelt de keuzes van de proefpersoon best goed, want de proefpersoon maakt ook fouten."
   ]
  },
  {
   "cell_type": "markdown",
   "metadata": {},
   "source": [
    "<br>\n",
    "\n",
    "### Q5.b (4 punten)\n",
    "\n",
    "Als we de functie een klein beetje herschrijven kunnen we deze gebruiken om in het hoofd van de proefpersoon te kijken. Nu willen we bijvoorbeeld weten welke Q-values zij aan de verschillende kisten toekent. \n",
    "\n",
    "Hiervoor is alleen een kleine verandering nodig, waarbij de functie nu niet meer de Log Likelihood als output heeft maar de lijst met Q-values. Pas de functie `q_learn_softmax_fit` aan zodat deze de Q-values returnt en noem de nieuwe functie `q_learn_fitted_model`. Zorg hierbij dat de `params` lijst van argumenten ook hetzelfde blijft als bij de `q_learn_softmax_fit`.\n",
    "\n",
    "Nu hoef je ook niet meer de functie te fitten of minimalizeren maar alleen aan te roepen, gebruikmakende van de beste gevonden `params` van de vorige stap.\n",
    "\n",
    "`q_learn_fitted_model(res.x)`\n",
    "\n",
    "Rapporteer de Q-values van deze proefpersoon. In werkelijkheid waren de gemiddelde beloningen van de kisten (50, 30, 20, 80). Hoe wijkt de proefpersoon hier van af en hoe is dat te verklaren? (Hint: kijk naar het keuzegedrag in de data file.)\n"
   ]
  },
  {
   "cell_type": "code",
   "execution_count": 60,
   "metadata": {},
   "outputs": [
    {
     "data": {
      "text/plain": [
       "array([49.33856539, 33.63972369, 30.70421154, 77.17571694])"
      ]
     },
     "execution_count": 60,
     "metadata": {},
     "output_type": "execute_result"
    }
   ],
   "source": [
    "def q_learn_fitted_model(params):\n",
    "    alpha, theta, init_value = params\n",
    "    nArms = 4\n",
    "    Q = np.array([init_value]*nArms)\n",
    "    LL = 0\n",
    "    \n",
    "    # loop over all trials\n",
    "    for row in data:\n",
    "        \n",
    "        # bereken de kans (probs) dat elke kist gekozen wordt\n",
    "        probs = np.power(np.e, theta*Q)\n",
    "        probs /= sum(probs)\n",
    "        \n",
    "        choice = row[1]-1   # de keuze van de proefpersoon\n",
    "        outcome = row[2]    # de uitkomst van de keuze\n",
    "        \n",
    "        # bereken de log likelihood van de keuze van de proefpersoon (choice)\n",
    "        # Gegeven de huidige Q values van het model, hoe groot was de kans (likelihood) \n",
    "        # dat deze specifieke kist gekozen werd?\n",
    "        LL += np.log(probs[choice]) # houd de som van alle LL bij. \n",
    "        \n",
    "        # Update de Q-values, gegeven de werkelijke keuze en ook de werkelijke outcome \n",
    "        # gebruik daarbij vrije parameter alpha, de learning rate, we proberen de optimale waarde hiervan te vinden\n",
    "        Q[choice] = Q[choice] + alpha * (outcome - Q[choice])\n",
    "    \n",
    "    # Schaal met -1 om de functie te kunnen minimizen\n",
    "    return Q\n",
    "\n",
    "q_learn_fitted_model(res.x)"
   ]
  },
  {
   "cell_type": "markdown",
   "metadata": {},
   "source": [
    "> *Antwoord*\n",
    "\n",
    "De proefpersoon heeft goede waarden voor kist 1 en 2. Kist 4 is ook erg dichtbij de goede waarde. Kist 3 wijkt erg af van de goede waarde, dit komt doordat de proefpersoon maar 1 keer voor kist 3 kiest en het een te hoge outcome geeft."
   ]
  },
  {
   "cell_type": "markdown",
   "metadata": {},
   "source": [
    "---\n",
    "\n",
    "## 6. Two-armed Bandits\n",
    "\n",
    "\n",
    "We gaan nu kijken naar de resultaten van een ander experiment. Net als bij het vorige experiment is er telkens een keuze tussen opties die verschillende beloningen opleveren. In het eerdere voorbeeld waren het schatkisten, maar in de meeste experimenten zijn dit gokkasten (ook wel bandits genoemd omdat ze uiteindelijk met je geld er vandoor gaan). \n",
    "\n",
    "<img src=\"Images\\2bandits.png\" alt=\"Drawing\" style=\"width: 600px;\"/>\n",
    "\n",
    "In deze versie van het experiment heeft de proefpersoon telkens de keuze tussen twee machines. Anders dan de kisten, geven deze machines wel of geen beloning. De ene machine geeft de beloning met een grotere kans (80%) dan de andere (20%). \n",
    "Net als hierboven kan je in een data file (*RL_data2.csv*) terugvinden welke van de opties de proefpersoon gekozen heeft en hoeveel punten er verdiend zijn. Er waren in totaal 8 paren van bandits, dus 16 objecten in totaal. \n",
    "\n",
    "Lees de data in uit *RL_data2.csv* (staat in de Data map) met behulp van [loadtxt](https://docs.scipy.org/doc/numpy/reference/generated/numpy.loadtxt.html):\n",
    "```python\n",
    "with open(\"Data\\RL_data2.csv\") as f:\n",
    "    data = np.loadtxt(f, dtype=int, delimiter=\",\", skiprows=1)\n",
    "```\n",
    "De headers in de file geven aan welke data er in de kolommen te vinden is: <br>\n",
    "`playerID` is de identificatie van de speler, `trial` is het trial nummer, `outcome` is de uitkomst van de keuze, `pairz` geeft aan welke paar zichtbaar was, waar paar 1 bestaat uit stimulus (object) 1 en 2, paar 2 uit stimulus 3 en 4, etc. Dan staat er in de kolom `choice` welke van de twee objecten gekozen is.\n",
    "\n",
    "Schrijf een nieuwe `q_learn_softmax_fit` functie zodat je deze op de data van de proefpersonen kan fitten. Ga er van uit dat de proefpersonen _geen_ ervaring heeft met dit type experiment en verwachten dat hij/zij gemiddeld  0 punten per ronde gaat verdienen (alle Q’s starten op 0). \n",
    "\n",
    "### Q6.a (5 punten)\n",
    "\n",
    "Fit het aangepaste model op de data van deze taak. Let er goed op dat voor het berekenen van de probabiliteit van het kiezen van een bepaalde stimulus je alleen rekening moet houden met de Q value van het alternatief binnen hetzelfde paar, niet de Q values van alle andere stimuli (zoals hierboven). Dus als pair 5 wordt aangeboden zie je alleen stim 9 en 10 en moet je alleen rekenen met $Q(9)$ en $Q(10)$.\n",
    "\n",
    "* Rapporteer de waardes van $\\alpha$, $\\theta$ en de Log Likelihood. \n",
    "\n"
   ]
  },
  {
   "cell_type": "code",
   "execution_count": 61,
   "metadata": {},
   "outputs": [
    {
     "name": "stdout",
     "output_type": "stream",
     "text": [
      "Optimization terminated successfully    (Exit mode 0)\n",
      "            Current function value: 41.28628012200635\n",
      "            Iterations: 20\n",
      "            Function evaluations: 99\n",
      "            Gradient evaluations: 20\n",
      "The optimal alpha is: 0.26268435311684196\n",
      "The optimal theta is: 3.76255683542164\n",
      "The avarege log likelihood is: 1.29438962340691\n"
     ]
    }
   ],
   "source": [
    "with open(\"Data/RL_data2.csv\") as f:\n",
    "    data = np.loadtxt(f, dtype=int, delimiter=\",\", skiprows=1)\n",
    "\n",
    "def q_learn_softmax_fit(params):\n",
    "    alpha, theta, init_value = params\n",
    "    nArms = 16\n",
    "    Q = np.array([init_value]*nArms)\n",
    "    LL = 0\n",
    "    \n",
    "    # loop over all trials\n",
    "    for row in data:\n",
    "        \n",
    "        # bereken de kans (probs) dat elke kist gekozen wordt\n",
    "        probs = np.power(np.e, theta*Q[[(row[3] - 1) * 2, (row[3] * 2) - 1]])\n",
    "        probs /= sum(probs)\n",
    "        \n",
    "        choice = row[4]-1   # de keuze van de proefpersoon\n",
    "        outcome = row[2]    # de uitkomst van de keuze\n",
    "        \n",
    "        # bereken de log likelihood van de keuze van de proefpersoon (choice)\n",
    "        # Gegeven de huidige Q values van het model, hoe groot was de kans (likelihood) \n",
    "        # dat deze specifieke kist gekozen werd?\n",
    "        LL += np.log(probs[choice % 2]) # houd de som van alle LL bij. \n",
    "        \n",
    "        # Update de Q-values, gegeven de werkelijke keuze en ook de werkelijke outcome \n",
    "        # gebruik daarbij vrije parameter alpha, de learning rate, we proberen de optimale waarde hiervan te vinden\n",
    "        Q[choice] = Q[choice] + alpha * (outcome - Q[choice])\n",
    "    \n",
    "    # Schaal met -1 om de functie te kunnen minimizen\n",
    "    return -1*LL\n",
    "\n",
    "res = minimize(q_learn_softmax_fit, \n",
    "               np.array([0.5, 0.5, 0]), \n",
    "               method='SLSQP',\n",
    "               bounds=[(0,1), (0,10), (-1, 1)], \n",
    "               options={'disp':True, 'ftol':1e-16})\n",
    "\n",
    "print(f\"The optimal alpha is: {res.x[0]}\")\n",
    "print(f\"The optimal theta is: {res.x[1]}\")\n",
    "print(f\"The avarege log likelihood is: {np.exp(res.fun/len(data))}\")"
   ]
  },
  {
   "cell_type": "markdown",
   "metadata": {},
   "source": [
    "### Model improvements\n",
    "\n",
    "Deze simpele 2-armed Bandit taak wordt heel veel gebruikt om onderzoek te doen bij mensen en dieren. Deze taak is bijvoobeeld bij mensen en dieren afgenomen om leren in het brein te kunnen bestuderen. Het is een simpele taak, maar deze heeft veel inzichten gegeven in hoe mensen leren, inzichten die soms ook weer vertaald zijn naar de ontwikkeling van bijvoorbeeld DNNs en andere toepassingen in de kunstmatige intelligentie.\n",
    "\n",
    "Verbeteringen en uitbreidingen op het leermodel zijn vaak geïnspireerd door observaties van gedrag. Zoals we bij model fitting hebben geleerd, worden deze modellen getoetst door te kijken of de uitbreidingen ook echt leiden tot een betere fit. Hier ga je een aantal van deze verbeteringen bedenken en uitwerken. \n",
    "\n",
    "### Q6.b Dual Learning rates (5 punten)\n",
    "Het blijkt dat mensen en dieren anders reageren op beloning en straf (zie ook colleges week 1). Dat is iets wat niet in het standaard Q-learning model meegenomen is. Schrijf nu een versie van q-learning die dat wel doet: `q_learn_softmax_fit_dual`. Gezien de titel van deze vraag kan je al raden dat dit kan door twee verschillende learning rates ($\\alpha_{gain}$ en $\\alpha_{loss}$) te introduceren. Het makkelijkste is om voor deze opdracht deze twee learning rates te associeren met positive en negatieve prediction errors.\n",
    "\n",
    "* Rapporteer de waardes van $\\alpha_{gain}$, $\\alpha_{loss}$, $\\theta$ en de Log Likelihood. \n",
    "* Is dit model inderdaad een betere fit? Wat geeft het verschil in learning rates aan? "
   ]
  },
  {
   "cell_type": "code",
   "execution_count": 62,
   "metadata": {},
   "outputs": [
    {
     "name": "stdout",
     "output_type": "stream",
     "text": [
      "Optimization terminated successfully    (Exit mode 0)\n",
      "            Current function value: 39.535281098691385\n",
      "            Iterations: 15\n",
      "            Function evaluations: 101\n",
      "            Gradient evaluations: 15\n",
      "The optimal alpha_gain is: 0.9999999999999999\n",
      "The optimal alpha_loss is: 0.21922291032208951\n",
      "The optimal theta is: 3.528114075385675\n",
      "The avarege log likelihood is: 1.2803013845131035\n"
     ]
    }
   ],
   "source": [
    "def q_learn_softmax_fit_dual(params):\n",
    "    alpha_g, alpha_l, theta, init_value = params\n",
    "    nArms = 16\n",
    "    Q = np.array([init_value]*nArms)\n",
    "    LL = 0\n",
    "    \n",
    "    for row in data:\n",
    "        \n",
    "        probs = np.power(np.e, theta*Q[[(row[3] - 1) * 2, (row[3] * 2) - 1]])\n",
    "        probs /= sum(probs)\n",
    "        \n",
    "        choice = row[4]-1   # de keuze van de proefpersoon\n",
    "        outcome = row[2]    # de uitkomst van de keuze\n",
    " \n",
    "        LL += np.log(probs[choice % 2]) # houd de som van alle LL bij. \n",
    "        \n",
    "        if outcome > 0:\n",
    "            Q[choice] = Q[choice] + alpha_g * (outcome - Q[choice])\n",
    "        else:\n",
    "            Q[choice] = Q[choice] + alpha_l * (outcome - Q[choice])\n",
    "    \n",
    "    # Schaal met -1 om de functie te kunnen minimizen\n",
    "    return -1*LL\n",
    "\n",
    "res = minimize(q_learn_softmax_fit_dual, \n",
    "               np.array([0.5, 0.5, 0.5, 0]), \n",
    "               method='SLSQP',\n",
    "               bounds=[(0, 1), (0,1), (0,10), (-1, 1)], \n",
    "               options={'disp':True, 'ftol':1e-16})\n",
    "\n",
    "print(f\"The optimal alpha_gain is: {res.x[0]}\")\n",
    "print(f\"The optimal alpha_loss is: {res.x[1]}\")\n",
    "print(f\"The optimal theta is: {res.x[2]}\")\n",
    "print(f\"The avarege log likelihood is: {np.exp(res.fun/len(data))}\")"
   ]
  },
  {
   "cell_type": "markdown",
   "metadata": {},
   "source": [
    "> *Antwoord*\n",
    "\n",
    "Dit model is ietsje beter, omdat het een iets lagere log likelihood heeft. Het verschil in learning rates geeft aan dat het leren van een reward een stuk sneller gaat dan het leren van een straf."
   ]
  },
  {
   "cell_type": "markdown",
   "metadata": {},
   "source": [
    "### Q6.c Meta Learning (6 punten)\n",
    "Iets anders wat opvalt bij het leerpatroon van mensen is dat ze langzaam maar zeker de structuur van de taak zelf door krijgen. Dat wordt ook wel meta-leren genoemd. Ook dit is een belangrijk onderdeel van leren, en krijgt wederom veel aandacht binnen de AI gemeenschap (zie ook Lake et al. paper). Want door de structuur van een taak te leren kan er sneller en beter geleerd worden in toekomstige trials, maar deze kennis kan ook van toepassing zijn in nieuwe vergelijkbare situaties. \n",
    "\n",
    "Denk bijvoorbeeld aan het spelen van Super Mario. In het eerste level leer je veel over de structuur van het spel, paddestoelen zijn bijvoorbeeld goed en schildpadden slecht. Handige informatie voor in het volgende level, maar ook voor in een soortgelijk spel: Sonic the Hedgehog (in AI onderzoek zijn deze oude spelen weer helemaal populair). \n",
    "\n",
    "De two bandits taak is erg simpel, maar er zit wel een structuur in, namelijk: van elk paar is altijd één van de twee bandits goed en de ander slecht. Ook verschillen de kansen op positieve en negatieve feedback maar minimaal. Als je feedback krijgt over één van de twee opties in een paar, leer je eigenlijk ook al iets over de ander. \n",
    "\n",
    "Jouw opdracht is om het algoritme aan te passen op een manier dat het deze kennis van de taak gebruikt. Laat zien hoe het model fit op de data fit. Het gaat nu meer om de implementatie van de kennis over de taak, het is niet erg als het model minder goed fit. \n",
    "\n",
    "* Schrijf een nieuw algortime\n",
    "* Motiveer je keuzes\n",
    "* Evalueer je model (parameter waardes, en LogLikelihood). "
   ]
  },
  {
   "cell_type": "code",
   "execution_count": 63,
   "metadata": {},
   "outputs": [
    {
     "name": "stdout",
     "output_type": "stream",
     "text": [
      "Optimization terminated successfully    (Exit mode 0)\n",
      "            Current function value: 43.98278340315754\n",
      "            Iterations: 42\n",
      "            Function evaluations: 217\n",
      "            Gradient evaluations: 42\n",
      "The optimal alpha_gain is: 0.4856946647409109\n",
      "The optimal alpha_loss is: 0.01100328726543673\n",
      "The optimal theta is: 10.0\n",
      "The avarege log likelihood is: 1.3163890188774903\n"
     ]
    }
   ],
   "source": [
    "def q_learn_meta(params):\n",
    "    alpha_g, alpha_l, theta, init_value = params\n",
    "    nArms = 16\n",
    "    Q = np.array([init_value]*nArms)\n",
    "    LL = 0\n",
    "    \n",
    "    for row in data:\n",
    "        \n",
    "        probs = np.power(np.e, theta*Q[[(row[3] - 1) * 2, (row[3] * 2) - 1]])\n",
    "        probs /= sum(probs)\n",
    "        \n",
    "        choice = row[4]-1   # de keuze van de proefpersoon\n",
    "        if choice % 2 == 0:\n",
    "            other = choice + 1\n",
    "        else:\n",
    "            other = choice - 1\n",
    "\n",
    "        outcome = row[2]    # de uitkomst van de keuze\n",
    " \n",
    "        LL += np.log(probs[choice % 2]) # houd de som van alle LL bij. \n",
    "        \n",
    "        if outcome > 0:\n",
    "            Q[choice] = Q[choice] + alpha_g * (outcome - Q[choice])\n",
    "            Q[other] = Q[other] - alpha_g * (outcome - Q[other])\n",
    "        else:\n",
    "            Q[choice] = Q[choice] + alpha_l * (outcome - Q[choice])\n",
    "            Q[other] = Q[other] - alpha_l * (outcome - Q[other])\n",
    "    \n",
    "    # Schaal met -1 om de functie te kunnen minimizen\n",
    "    return -1*LL\n",
    "\n",
    "res = minimize(q_learn_meta, \n",
    "               np.array([0.5, 0.5, 0.5, 0]), \n",
    "               method='SLSQP',\n",
    "               bounds=[(0, 1), (0,1), (0,10), (-1, 1)], \n",
    "               options={'disp':True, 'ftol':1e-16})\n",
    "\n",
    "print(f\"The optimal alpha_gain is: {res.x[0]}\")\n",
    "print(f\"The optimal alpha_loss is: {res.x[1]}\")\n",
    "print(f\"The optimal theta is: {res.x[2]}\")\n",
    "print(f\"The avarege log likelihood is: {np.exp(res.fun/len(data))}\")"
   ]
  },
  {
   "cell_type": "markdown",
   "metadata": {},
   "source": [
    "> *Antwoord*\n",
    "\n",
    "Als we weten dat de ene bandit goed is, dan is de andere bandit slecht. Dus we kunnen de tegenovergestelde update doen voor de andere bandit.\n",
    "De log likelihood is iets hoger dan bij de andere modellen, maar de learning rates zijn een stuk lager. Vooral alpha loss is erg laag, dit komt doordat we de loss eigenlijk al leren door de tegenovergestelde update te doen, dus deze parameter wordt minder relevant."
   ]
  },
  {
   "cell_type": "markdown",
   "metadata": {},
   "source": [
    "### Q6.d Dynamic Learning rates (5 bonus punten)\n",
    "We zien vaak dat mensen in dit soort taken steeds minder reageren op de feedback, sommigen helemaal niet meer. Als je eenmaal weet welke van de twee objecten de beste is, dan moet je eigenlijk de negatieve uitkomsten die soms komen gewoon negeren. Klassieke Q-learning modelen die gebaseerd zijn op het Rescorla-Wagner model kunnen dat gedrag niet goed vangen. \n",
    "\n",
    "We hadden eerder al gezien dat het Pearce-Hall model een andere insteek had wat betreft de learning rate, namelijk dat deze afneemt naarmate de associatie sterkte toeneemt. Het gebeurt nu nog erg weinig maar dit kan ook binnen Q learning geimplementeerd worden.\n",
    "\n",
    "* Implemeneer de PH dynamic learning rate in het single learning rate Q-learning algoritme\n",
    "Voor het gemak:\n",
    "```python\n",
    "alpha = gamma*(abs(outcome - Q[choice]))+((1-gamma)*alpha)\n",
    "```\n",
    "\n",
    "Zorg dat je de scalar $S$ meeneemt in het model! Doe dit voor gemak in het single learning rate model. Wordt het er beter op? Wat is de waarde van gamma, en wat betekent dat? Vergelijk de fit van dit model dan dus ook met het single learning rate model zonder dynamic learnig rates"
   ]
  },
  {
   "cell_type": "code",
   "execution_count": 64,
   "metadata": {},
   "outputs": [
    {
     "name": "stdout",
     "output_type": "stream",
     "text": [
      "Optimization terminated successfully    (Exit mode 0)\n",
      "            Current function value: 38.463987974092575\n",
      "            Iterations: 29\n",
      "            Function evaluations: 168\n",
      "            Gradient evaluations: 29\n",
      "The optimal gamma is: 1.0\n",
      "The optimal theta is: 4.454514686263505\n",
      "The optimal S is: 0.22018353966463997\n",
      "The avarege log likelihood is: 1.271757656107274\n"
     ]
    },
    {
     "name": "stderr",
     "output_type": "stream",
     "text": [
      "/tmp/ipykernel_115178/290410257.py:18: RuntimeWarning: divide by zero encountered in log\n",
      "  LL += np.log(probs[choice % 2])\n",
      "/tmp/ipykernel_115178/290410257.py:12: RuntimeWarning: overflow encountered in power\n",
      "  probs = np.power(np.e, theta*Q[[(row[3] - 1) * 2, (row[3] * 2) - 1]])\n",
      "/tmp/ipykernel_115178/290410257.py:13: RuntimeWarning: invalid value encountered in divide\n",
      "  probs /= sum(probs)\n",
      "/tmp/ipykernel_115178/290410257.py:24: RuntimeWarning: overflow encountered in scalar multiply\n",
      "  Q[choice] = Q[choice] + S * alpha * pred_err\n",
      "/tmp/ipykernel_115178/290410257.py:24: RuntimeWarning: invalid value encountered in scalar add\n",
      "  Q[choice] = Q[choice] + S * alpha * pred_err\n",
      "/tmp/ipykernel_115178/290410257.py:22: RuntimeWarning: invalid value encountered in scalar multiply\n",
      "  alpha = gamma * abs(pred_err) + (1 - gamma) * alpha\n"
     ]
    }
   ],
   "source": [
    "def q_learn_pearce_hall(params):\n",
    "    gamma, theta, init_value, S = params\n",
    "    nArms = 16\n",
    "    Q = np.array([init_value]*nArms)\n",
    "    LL = 0\n",
    "\n",
    "    alpha = 0.5\n",
    "    \n",
    "    # loop over all trials\n",
    "    for row in data:\n",
    "        \n",
    "        probs = np.power(np.e, theta*Q[[(row[3] - 1) * 2, (row[3] * 2) - 1]])\n",
    "        probs /= sum(probs)\n",
    "        \n",
    "        choice = row[4]-1   # de keuze van de proefpersoon\n",
    "        outcome = row[2]    # de uitkomst van de keuze\n",
    "        \n",
    "        LL += np.log(probs[choice % 2])\n",
    "\n",
    "        pred_err = outcome - Q[choice]\n",
    "\n",
    "        alpha = gamma * abs(pred_err) + (1 - gamma) * alpha\n",
    "\n",
    "        Q[choice] = Q[choice] + S * alpha * pred_err       \n",
    "    \n",
    "    return -1*LL\n",
    "\n",
    "res = minimize(q_learn_pearce_hall, \n",
    "               np.array([0.5, 0.5, 0, 0.5]), \n",
    "               method='SLSQP',\n",
    "               bounds=[(0,1), (0,10), (-1, 1), (0, 1)], \n",
    "               options={'disp':True, 'ftol':1e-16})\n",
    "\n",
    "print(f\"The optimal gamma is: {res.x[0]}\")\n",
    "print(f\"The optimal theta is: {res.x[1]}\")\n",
    "print(f\"The optimal S is: {res.x[3]}\")\n",
    "print(f\"The avarege log likelihood is: {np.exp(res.fun/len(data))}\")"
   ]
  },
  {
   "cell_type": "code",
   "execution_count": null,
   "metadata": {},
   "outputs": [],
   "source": []
  },
  {
   "cell_type": "markdown",
   "metadata": {},
   "source": [
    "> *Antwoord*\n",
    "\n",
    "Dit model is ietsje beter dan het single learning rate model. De optimale waarde voor gamma is 1. Dat betekent dat de alpha gelijk zal zijn aan de prediction error. "
   ]
  }
 ],
 "metadata": {
  "kernelspec": {
   "display_name": "py3.12.3",
   "language": "python",
   "name": "python3"
  },
  "language_info": {
   "codemirror_mode": {
    "name": "ipython",
    "version": 3
   },
   "file_extension": ".py",
   "mimetype": "text/x-python",
   "name": "python",
   "nbconvert_exporter": "python",
   "pygments_lexer": "ipython3",
   "version": "3.12.3"
  }
 },
 "nbformat": 4,
 "nbformat_minor": 4
}
